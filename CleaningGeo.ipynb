{
 "cells": [
  {
   "cell_type": "code",
   "execution_count": 1,
   "id": "4bec7169-f28c-4a95-a462-9d17ecb8f52a",
   "metadata": {},
   "outputs": [],
   "source": [
    "import pandas as pd\n",
    "import matplotlib.pyplot as plt"
   ]
  },
  {
   "cell_type": "code",
   "execution_count": 2,
   "id": "df327e51-626f-4042-828f-c04946a3a0e9",
   "metadata": {},
   "outputs": [],
   "source": [
    "df = pd.read_excel('ООО_Внимание_к_деталям1.xlsx')"
   ]
  },
  {
   "cell_type": "code",
   "execution_count": 3,
   "id": "bdd6889b-3252-4f5c-bbc4-3e8f933eb942",
   "metadata": {},
   "outputs": [
    {
     "name": "stdout",
     "output_type": "stream",
     "text": [
      "    id точки                                              Адрес     Широта  \\\n",
      "0    42312.0  Красноярский край, г. Норильск, пл. Металлурго...  88.182779   \n",
      "1    42458.0  Мурманская обл, г. Мурманск, ул. Ленина, дом №...  33.074807   \n",
      "2    42447.0  Мурманская обл, г. Мурманск, пр. Ленина, дом № 32  33.067489   \n",
      "3  2633929.0  Ямало-Ненецкий АО, г. Новый Уренгой, ул. Сибир...  76.631279   \n",
      "4    15621.0  Архангельская обл, г. Северодвинск, ул. Ломоно...  39.785522   \n",
      "\n",
      "     Долгота Дата открытия Дата закрытия  Площадь магазина  \\\n",
      "0  69.358932    2013-07-15           NaT               455   \n",
      "1  68.968507    2006-11-21           NaT               223   \n",
      "2  68.956872    2012-11-09           NaT               602   \n",
      "3  66.082833    2014-08-01           NaT               326   \n",
      "4  64.550364    2003-11-09           NaT               178   \n",
      "\n",
      "               Тип входа  Площадь ТЦ Формат магазина  ... Этаж  \\\n",
      "0  без сквозного прохода     28324.0              ТЦ  ...    1   \n",
      "1  без сквозного прохода      1917.0         Мини ТЦ  ...    1   \n",
      "2  без сквозного прохода     80000.0              ТЦ  ...    1   \n",
      "3  без сквозного прохода     40000.0              ТЦ  ...    1   \n",
      "4        сквозной проход     20000.0              ТЦ  ...    1   \n",
      "\n",
      "       Время работы Заполненность ТЦ  Рядом с эскалатором  Рядом со входом  \\\n",
      "0  с 10:00 до 22:00              3.0                    1                0   \n",
      "1  с 11:00 до 21:00              3.0                    1                1   \n",
      "2  с 10:00 до 22:00              3.0                    1                1   \n",
      "3  с 10:00 до 22:00              3.0                    1                1   \n",
      "4  с 10:00 до 21:00              3.0                    0                0   \n",
      "\n",
      "   Конкуренты в ТЦ  Расположение в ТЦ     Толока       Люкс    Выборка  \n",
      "0              NaN                8.0  69.080723  70.931034  Обучающая  \n",
      "1              NaN                7.0  28.152412  70.000000  Обучающая  \n",
      "2              NaN               10.0  91.103017  82.363636   Тестовая  \n",
      "3              NaN               10.0  36.219104  64.037037   Тестовая  \n",
      "4              0.0                8.0  82.880454  64.034483  Обучающая  \n",
      "\n",
      "[5 rows x 21 columns]\n"
     ]
    }
   ],
   "source": [
    "print(df.head())"
   ]
  },
  {
   "cell_type": "code",
   "execution_count": 4,
   "id": "4fff8c7b-ed6e-4df0-9088-c01800092372",
   "metadata": {},
   "outputs": [
    {
     "name": "stdout",
     "output_type": "stream",
     "text": [
      "<class 'pandas.core.frame.DataFrame'>\n",
      "RangeIndex: 246 entries, 0 to 245\n",
      "Data columns (total 21 columns):\n",
      " #   Column               Non-Null Count  Dtype         \n",
      "---  ------               --------------  -----         \n",
      " 0   id точки             245 non-null    float64       \n",
      " 1   Адрес                246 non-null    object        \n",
      " 2   Широта               246 non-null    float64       \n",
      " 3   Долгота              246 non-null    float64       \n",
      " 4   Дата открытия        246 non-null    datetime64[ns]\n",
      " 5   Дата закрытия        9 non-null      datetime64[ns]\n",
      " 6   Площадь магазина     246 non-null    int64         \n",
      " 7   Тип входа            244 non-null    object        \n",
      " 8   Площадь ТЦ           204 non-null    float64       \n",
      " 9   Формат магазина      246 non-null    object        \n",
      " 10  Парковка             228 non-null    object        \n",
      " 11  Этаж                 241 non-null    object        \n",
      " 12  Время работы         240 non-null    object        \n",
      " 13  Заполненность ТЦ     182 non-null    float64       \n",
      " 14  Рядом с эскалатором  246 non-null    int64         \n",
      " 15  Рядом со входом      246 non-null    int64         \n",
      " 16  Конкуренты в ТЦ      94 non-null     float64       \n",
      " 17  Расположение в ТЦ    224 non-null    float64       \n",
      " 18  Толока               246 non-null    float64       \n",
      " 19  Люкс                 246 non-null    float64       \n",
      " 20  Выборка              245 non-null    object        \n",
      "dtypes: datetime64[ns](2), float64(9), int64(3), object(7)\n",
      "memory usage: 40.5+ KB\n",
      "None\n"
     ]
    }
   ],
   "source": [
    "print(df.info())"
   ]
  },
  {
   "cell_type": "code",
   "execution_count": 5,
   "id": "aa51b5fe-a454-44f1-acaa-65bcdda6183a",
   "metadata": {},
   "outputs": [
    {
     "data": {
      "text/plain": [
       "Index(['id точки', 'Адрес', 'Широта', 'Долгота', 'Дата открытия',\n",
       "       'Дата закрытия', 'Площадь магазина', 'Тип входа', 'Площадь ТЦ',\n",
       "       'Формат магазина', 'Парковка', 'Этаж', 'Время работы',\n",
       "       'Заполненность ТЦ', 'Рядом с эскалатором', 'Рядом со входом',\n",
       "       'Конкуренты в ТЦ', 'Расположение в ТЦ', 'Толока', 'Люкс', 'Выборка'],\n",
       "      dtype='object')"
      ]
     },
     "execution_count": 5,
     "metadata": {},
     "output_type": "execute_result"
    }
   ],
   "source": [
    "df.columns"
   ]
  },
  {
   "cell_type": "code",
   "execution_count": 6,
   "id": "9a24ac56-5455-4b2d-8f10-f2158c4fda55",
   "metadata": {},
   "outputs": [],
   "source": [
    "df1 = df.rename(columns = {'Широта':'Долгота','Долгота':'Широта'})"
   ]
  },
  {
   "cell_type": "code",
   "execution_count": 7,
   "id": "7cca9ebb-7a41-40bb-8b8e-eccca6e81115",
   "metadata": {},
   "outputs": [
    {
     "name": "stdout",
     "output_type": "stream",
     "text": [
      "      id точки                                              Адрес     Долгота  \\\n",
      "0      42312.0  Красноярский край, г. Норильск, пл. Металлурго...   88.182779   \n",
      "1      42458.0  Мурманская обл, г. Мурманск, ул. Ленина, дом №...   33.074807   \n",
      "2      42447.0  Мурманская обл, г. Мурманск, пр. Ленина, дом № 32   33.067489   \n",
      "3    2633929.0  Ямало-Ненецкий АО, г. Новый Уренгой, ул. Сибир...   76.631279   \n",
      "4      15621.0  Архангельская обл, г. Северодвинск, ул. Ломоно...   39.785522   \n",
      "..         ...                                                ...         ...   \n",
      "241    42553.0  Респ. Кабардино-Балкария, г. Нальчик, ул. Лени...   43.608527   \n",
      "242    42240.0  Краснодарский край, Адлерский р-он, г. Сочи, у...   39.926853   \n",
      "243    42525.0  Приморский край, Владивосток г, Полетаева ул, ...  131.951234   \n",
      "244    42668.0  Республика Северная Осетия — Алания, Владикавк...   44.642685   \n",
      "245    42597.0  Респ. Северная Осетия, г. Владикавказ, ул. Ген...   44.677235   \n",
      "\n",
      "        Широта Дата открытия Дата закрытия  Площадь магазина  \\\n",
      "0    69.358932    2013-07-15           NaT               455   \n",
      "1    68.968507    2006-11-21           NaT               223   \n",
      "2    68.956872    2012-11-09           NaT               602   \n",
      "3    66.082833    2014-08-01           NaT               326   \n",
      "4    64.550364    2003-11-09           NaT               178   \n",
      "..         ...           ...           ...               ...   \n",
      "241  43.485108    2009-05-15           NaT               218   \n",
      "242  43.427665    2011-10-05           NaT               292   \n",
      "243  43.212639    2018-06-16           NaT               527   \n",
      "244  43.033586    2015-12-21           NaT               313   \n",
      "245  43.019324    2015-12-15           NaT               361   \n",
      "\n",
      "                 Тип входа  Площадь ТЦ Формат магазина  ... Этаж  \\\n",
      "0    без сквозного прохода     28324.0              ТЦ  ...    1   \n",
      "1    без сквозного прохода      1917.0         Мини ТЦ  ...    1   \n",
      "2    без сквозного прохода     80000.0              ТЦ  ...    1   \n",
      "3    без сквозного прохода     40000.0              ТЦ  ...    1   \n",
      "4          сквозной проход     20000.0              ТЦ  ...    1   \n",
      "..                     ...         ...             ...  ...  ...   \n",
      "241  без сквозного прохода      4848.0              ТЦ  ...    1   \n",
      "242  без сквозного прохода     30000.0              ТЦ  ...    3   \n",
      "243  без сквозного прохода     94000.0              ТЦ  ...    1   \n",
      "244  без сквозного прохода     28000.0              ТЦ  ...    1   \n",
      "245  без сквозного прохода     10000.0              ТЦ  ...    2   \n",
      "\n",
      "                                          Время работы Заполненность ТЦ  \\\n",
      "0                                     с 10:00 до 22:00              3.0   \n",
      "1                                     с 11:00 до 21:00              3.0   \n",
      "2                                     с 10:00 до 22:00              3.0   \n",
      "3                                     с 10:00 до 22:00              3.0   \n",
      "4                                     с 10:00 до 21:00              3.0   \n",
      "..                                                 ...              ...   \n",
      "241                                   с 10:00 до 21:00              NaN   \n",
      "242                                   с 10:00 до 21:00              3.0   \n",
      "243  Вс-Чт с 10:00 до 21:00     Пт-Сб с  10:00 до 2...              2.0   \n",
      "244                                   с 10:00 до 22:00              2.0   \n",
      "245                                    с 9:00 до 21:00              2.0   \n",
      "\n",
      "     Рядом с эскалатором  Рядом со входом  Конкуренты в ТЦ  Расположение в ТЦ  \\\n",
      "0                      1                0              NaN                8.0   \n",
      "1                      1                1              NaN                7.0   \n",
      "2                      1                1              NaN               10.0   \n",
      "3                      1                1              NaN               10.0   \n",
      "4                      0                0              0.0                8.0   \n",
      "..                   ...              ...              ...                ...   \n",
      "241                    0                1              NaN                5.0   \n",
      "242                    1                1              NaN               10.0   \n",
      "243                    1                0              NaN                3.0   \n",
      "244                    0                0              NaN                4.0   \n",
      "245                    0                1              0.0                6.0   \n",
      "\n",
      "         Толока       Люкс    Выборка  \n",
      "0     69.080723  70.931034  Обучающая  \n",
      "1     28.152412  70.000000  Обучающая  \n",
      "2     91.103017  82.363636   Тестовая  \n",
      "3     36.219104  64.037037   Тестовая  \n",
      "4     82.880454  64.034483  Обучающая  \n",
      "..          ...        ...        ...  \n",
      "241  103.695752  73.379310  Обучающая  \n",
      "242   86.215068  71.655172   Тестовая  \n",
      "243   29.635210  74.000000   Тестовая  \n",
      "244   17.597540  49.727273   Тестовая  \n",
      "245   42.047857  73.965517  Обучающая  \n",
      "\n",
      "[246 rows x 21 columns]\n"
     ]
    }
   ],
   "source": [
    "print(df1)"
   ]
  },
  {
   "cell_type": "code",
   "execution_count": 8,
   "id": "5575c236-c6ba-4253-b7bd-184762fc0f1d",
   "metadata": {},
   "outputs": [],
   "source": [
    "df2 = df1.iloc[:,1].str.split(pat = ',', expand = True)"
   ]
  },
  {
   "cell_type": "code",
   "execution_count": 9,
   "id": "5f99442d-6539-414e-a2c1-f7f919c2a6e0",
   "metadata": {},
   "outputs": [],
   "source": [
    "for i in list(df2):\n",
    "  df2[i] = df2[i].str.strip()"
   ]
  },
  {
   "cell_type": "code",
   "execution_count": 10,
   "id": "142453d4-df64-4c5d-bad2-d81a2c646fa6",
   "metadata": {},
   "outputs": [
    {
     "name": "stdout",
     "output_type": "stream",
     "text": [
      "                                       0                 1  \\\n",
      "0                      Красноярский край       г. Норильск   \n",
      "1                         Мурманская обл       г. Мурманск   \n",
      "2                         Мурманская обл       г. Мурманск   \n",
      "3                      Ямало-Ненецкий АО  г. Новый Уренгой   \n",
      "4                      Архангельская обл   г. Северодвинск   \n",
      "..                                   ...               ...   \n",
      "241             Респ. Кабардино-Балкария        г. Нальчик   \n",
      "242                   Краснодарский край    Адлерский р-он   \n",
      "243                      Приморский край     Владивосток г   \n",
      "244  Республика Северная Осетия — Алания       Владикавказ   \n",
      "245                Респ. Северная Осетия    г. Владикавказ   \n",
      "\n",
      "                       2           3                   4           5     6  \\\n",
      "0        пл. Металлургов    дом № 10         СРК \"Арена\"        None  None   \n",
      "1             ул. Ленина    дом № 69   ТЦ \"Дом Торговли\"        None  None   \n",
      "2             пр. Ленина    дом № 32                None        None  None   \n",
      "3          ул. Сибирская          26      ТЦ \"Солнечный\"        None  None   \n",
      "4         ул. Ломоносова    дом № 81                 ЦУМ        None  None   \n",
      "..                   ...         ...                 ...         ...   ...   \n",
      "241           ул. Ленина    дом № 34                None        None  None   \n",
      "242              г. Сочи  ул. Кирова            дом № 58  ТЦ \"PLAZA\"  None   \n",
      "243         Полетаева ул     дом № 6  ТРК \"Седанка Сити\"        None  None   \n",
      "244     Московское шоссе          3К                None        None  None   \n",
      "245  ул. Генерала Плиева    дом № 17                 ЦУМ        None  None   \n",
      "\n",
      "        7  \n",
      "0    None  \n",
      "1    None  \n",
      "2    None  \n",
      "3    None  \n",
      "4    None  \n",
      "..    ...  \n",
      "241  None  \n",
      "242  None  \n",
      "243  None  \n",
      "244  None  \n",
      "245  None  \n",
      "\n",
      "[246 rows x 8 columns]\n"
     ]
    }
   ],
   "source": [
    "print(df2)"
   ]
  },
  {
   "cell_type": "code",
   "execution_count": 11,
   "id": "556f7e3a-a9bc-4650-ae1f-6ed44f885322",
   "metadata": {},
   "outputs": [],
   "source": [
    "t1 = df2.iloc[:,0].unique()"
   ]
  },
  {
   "cell_type": "code",
   "execution_count": 12,
   "id": "160ccc70-dd34-46ea-8de9-2bb30987aca3",
   "metadata": {},
   "outputs": [
    {
     "name": "stdout",
     "output_type": "stream",
     "text": [
      "['Красноярский край' 'Мурманская обл' 'Ямало-Ненецкий АО'\n",
      " 'Архангельская обл' 'Якутск г' 'Респ. Карелия' 'Карелия Респ'\n",
      " 'Респ. Коми' 'Ханты-Мансийский АО' 'Ленинградская обл'\n",
      " 'г. Санкт-Петербург' 'Санкт-Петербург г' 'Санкт-Петербург'\n",
      " 'Магаданская область' 'г. Вологда' 'Россия' 'Вологодская обл'\n",
      " 'г. Великий Новгород' 'Новгородская обл' 'Пермь' 'Свердловская обл'\n",
      " 'Ярославская обл' 'Тюменская обл' 'Ивановская обл' 'Тверская обл'\n",
      " 'Томская обл' 'Нижегородская область' 'Владимирская обл' 'Респ. Чувашия'\n",
      " 'Московская область' 'Московская обл' 'М.О. г. Мытищи' 'М.О. г. Королев'\n",
      " 'г. Москва' 'Москва г' 'Респ. Татарстан' 'М.О. г. Электросталь'\n",
      " 'Татарстан Респ' 'Новосибирская обл' 'Омская обл' 'Смоленская обл'\n",
      " 'Респ. Башкортостан' 'Башкортостан Респ' 'Калининградская обл'\n",
      " 'Республика Башкортостан' 'Рязанская обл' 'Калужская обл'\n",
      " 'Ульяновская обл' 'Тульская обл' 'Кемеровская обл' 'Челябинская обл'\n",
      " 'Барнаул г' 'Алтайский край' 'Брянская обл' 'Самарская обл'\n",
      " 'Пензенская обл' 'Камчатский край' 'Липецкая обл' 'Иркутская обл'\n",
      " 'Оренбургская обл' 'Респ. Бурятия' 'Курская обл' 'Воронежская обл'\n",
      " 'Саратовская обл' 'Белгородская обл' 'Амурская область'\n",
      " 'Волгоградская обл' 'Хабаровский край' 'Ростовская обл'\n",
      " 'Астраханская обл' 'Ставропольский край' 'Краснодарский край'\n",
      " 'респ. Адыгея' 'Респ. Карачаево-Черкессия' 'Респ. Кабардино-Балкария'\n",
      " 'Приморский край' 'Республика Северная Осетия — Алания'\n",
      " 'Респ. Северная Осетия']\n"
     ]
    }
   ],
   "source": [
    "print(t1)"
   ]
  },
  {
   "cell_type": "code",
   "execution_count": 13,
   "id": "2424e4b2-2f29-4b30-a065-182a3754d599",
   "metadata": {},
   "outputs": [
    {
     "data": {
      "text/html": [
       "<div>\n",
       "<style scoped>\n",
       "    .dataframe tbody tr th:only-of-type {\n",
       "        vertical-align: middle;\n",
       "    }\n",
       "\n",
       "    .dataframe tbody tr th {\n",
       "        vertical-align: top;\n",
       "    }\n",
       "\n",
       "    .dataframe thead th {\n",
       "        text-align: right;\n",
       "    }\n",
       "</style>\n",
       "<table border=\"1\" class=\"dataframe\">\n",
       "  <thead>\n",
       "    <tr style=\"text-align: right;\">\n",
       "      <th></th>\n",
       "      <th>id точки</th>\n",
       "      <th>Адрес</th>\n",
       "      <th>Долгота</th>\n",
       "      <th>Широта</th>\n",
       "      <th>Дата открытия</th>\n",
       "      <th>Дата закрытия</th>\n",
       "      <th>Площадь магазина</th>\n",
       "      <th>Тип входа</th>\n",
       "      <th>Площадь ТЦ</th>\n",
       "      <th>Формат магазина</th>\n",
       "      <th>...</th>\n",
       "      <th>Этаж</th>\n",
       "      <th>Время работы</th>\n",
       "      <th>Заполненность ТЦ</th>\n",
       "      <th>Рядом с эскалатором</th>\n",
       "      <th>Рядом со входом</th>\n",
       "      <th>Конкуренты в ТЦ</th>\n",
       "      <th>Расположение в ТЦ</th>\n",
       "      <th>Толока</th>\n",
       "      <th>Люкс</th>\n",
       "      <th>Выборка</th>\n",
       "    </tr>\n",
       "  </thead>\n",
       "  <tbody>\n",
       "    <tr>\n",
       "      <th>0</th>\n",
       "      <td>42312.0</td>\n",
       "      <td>Красноярский край, г. Норильск, пл. Металлурго...</td>\n",
       "      <td>88.182779</td>\n",
       "      <td>69.358932</td>\n",
       "      <td>2013-07-15</td>\n",
       "      <td>NaT</td>\n",
       "      <td>455</td>\n",
       "      <td>без сквозного прохода</td>\n",
       "      <td>28324.0</td>\n",
       "      <td>ТЦ</td>\n",
       "      <td>...</td>\n",
       "      <td>1</td>\n",
       "      <td>с 10:00 до 22:00</td>\n",
       "      <td>3.0</td>\n",
       "      <td>1</td>\n",
       "      <td>0</td>\n",
       "      <td>NaN</td>\n",
       "      <td>8.0</td>\n",
       "      <td>69.080723</td>\n",
       "      <td>70.931034</td>\n",
       "      <td>Обучающая</td>\n",
       "    </tr>\n",
       "    <tr>\n",
       "      <th>1</th>\n",
       "      <td>42458.0</td>\n",
       "      <td>Мурманская обл, г. Мурманск, ул. Ленина, дом №...</td>\n",
       "      <td>33.074807</td>\n",
       "      <td>68.968507</td>\n",
       "      <td>2006-11-21</td>\n",
       "      <td>NaT</td>\n",
       "      <td>223</td>\n",
       "      <td>без сквозного прохода</td>\n",
       "      <td>1917.0</td>\n",
       "      <td>Мини ТЦ</td>\n",
       "      <td>...</td>\n",
       "      <td>1</td>\n",
       "      <td>с 11:00 до 21:00</td>\n",
       "      <td>3.0</td>\n",
       "      <td>1</td>\n",
       "      <td>1</td>\n",
       "      <td>NaN</td>\n",
       "      <td>7.0</td>\n",
       "      <td>28.152412</td>\n",
       "      <td>70.000000</td>\n",
       "      <td>Обучающая</td>\n",
       "    </tr>\n",
       "    <tr>\n",
       "      <th>2</th>\n",
       "      <td>42447.0</td>\n",
       "      <td>Мурманская обл, г. Мурманск, пр. Ленина, дом № 32</td>\n",
       "      <td>33.067489</td>\n",
       "      <td>68.956872</td>\n",
       "      <td>2012-11-09</td>\n",
       "      <td>NaT</td>\n",
       "      <td>602</td>\n",
       "      <td>без сквозного прохода</td>\n",
       "      <td>80000.0</td>\n",
       "      <td>ТЦ</td>\n",
       "      <td>...</td>\n",
       "      <td>1</td>\n",
       "      <td>с 10:00 до 22:00</td>\n",
       "      <td>3.0</td>\n",
       "      <td>1</td>\n",
       "      <td>1</td>\n",
       "      <td>NaN</td>\n",
       "      <td>10.0</td>\n",
       "      <td>91.103017</td>\n",
       "      <td>82.363636</td>\n",
       "      <td>Тестовая</td>\n",
       "    </tr>\n",
       "    <tr>\n",
       "      <th>3</th>\n",
       "      <td>2633929.0</td>\n",
       "      <td>Ямало-Ненецкий АО, г. Новый Уренгой, ул. Сибир...</td>\n",
       "      <td>76.631279</td>\n",
       "      <td>66.082833</td>\n",
       "      <td>2014-08-01</td>\n",
       "      <td>NaT</td>\n",
       "      <td>326</td>\n",
       "      <td>без сквозного прохода</td>\n",
       "      <td>40000.0</td>\n",
       "      <td>ТЦ</td>\n",
       "      <td>...</td>\n",
       "      <td>1</td>\n",
       "      <td>с 10:00 до 22:00</td>\n",
       "      <td>3.0</td>\n",
       "      <td>1</td>\n",
       "      <td>1</td>\n",
       "      <td>NaN</td>\n",
       "      <td>10.0</td>\n",
       "      <td>36.219104</td>\n",
       "      <td>64.037037</td>\n",
       "      <td>Тестовая</td>\n",
       "    </tr>\n",
       "    <tr>\n",
       "      <th>4</th>\n",
       "      <td>15621.0</td>\n",
       "      <td>Архангельская обл, г. Северодвинск, ул. Ломоно...</td>\n",
       "      <td>39.785522</td>\n",
       "      <td>64.550364</td>\n",
       "      <td>2003-11-09</td>\n",
       "      <td>NaT</td>\n",
       "      <td>178</td>\n",
       "      <td>сквозной проход</td>\n",
       "      <td>20000.0</td>\n",
       "      <td>ТЦ</td>\n",
       "      <td>...</td>\n",
       "      <td>1</td>\n",
       "      <td>с 10:00 до 21:00</td>\n",
       "      <td>3.0</td>\n",
       "      <td>0</td>\n",
       "      <td>0</td>\n",
       "      <td>0.0</td>\n",
       "      <td>8.0</td>\n",
       "      <td>82.880454</td>\n",
       "      <td>64.034483</td>\n",
       "      <td>Обучающая</td>\n",
       "    </tr>\n",
       "  </tbody>\n",
       "</table>\n",
       "<p>5 rows × 21 columns</p>\n",
       "</div>"
      ],
      "text/plain": [
       "    id точки                                              Адрес    Долгота  \\\n",
       "0    42312.0  Красноярский край, г. Норильск, пл. Металлурго...  88.182779   \n",
       "1    42458.0  Мурманская обл, г. Мурманск, ул. Ленина, дом №...  33.074807   \n",
       "2    42447.0  Мурманская обл, г. Мурманск, пр. Ленина, дом № 32  33.067489   \n",
       "3  2633929.0  Ямало-Ненецкий АО, г. Новый Уренгой, ул. Сибир...  76.631279   \n",
       "4    15621.0  Архангельская обл, г. Северодвинск, ул. Ломоно...  39.785522   \n",
       "\n",
       "      Широта Дата открытия Дата закрытия  Площадь магазина  \\\n",
       "0  69.358932    2013-07-15           NaT               455   \n",
       "1  68.968507    2006-11-21           NaT               223   \n",
       "2  68.956872    2012-11-09           NaT               602   \n",
       "3  66.082833    2014-08-01           NaT               326   \n",
       "4  64.550364    2003-11-09           NaT               178   \n",
       "\n",
       "               Тип входа  Площадь ТЦ Формат магазина  ... Этаж  \\\n",
       "0  без сквозного прохода     28324.0              ТЦ  ...    1   \n",
       "1  без сквозного прохода      1917.0         Мини ТЦ  ...    1   \n",
       "2  без сквозного прохода     80000.0              ТЦ  ...    1   \n",
       "3  без сквозного прохода     40000.0              ТЦ  ...    1   \n",
       "4        сквозной проход     20000.0              ТЦ  ...    1   \n",
       "\n",
       "       Время работы Заполненность ТЦ  Рядом с эскалатором  Рядом со входом  \\\n",
       "0  с 10:00 до 22:00              3.0                    1                0   \n",
       "1  с 11:00 до 21:00              3.0                    1                1   \n",
       "2  с 10:00 до 22:00              3.0                    1                1   \n",
       "3  с 10:00 до 22:00              3.0                    1                1   \n",
       "4  с 10:00 до 21:00              3.0                    0                0   \n",
       "\n",
       "   Конкуренты в ТЦ  Расположение в ТЦ     Толока       Люкс    Выборка  \n",
       "0              NaN                8.0  69.080723  70.931034  Обучающая  \n",
       "1              NaN                7.0  28.152412  70.000000  Обучающая  \n",
       "2              NaN               10.0  91.103017  82.363636   Тестовая  \n",
       "3              NaN               10.0  36.219104  64.037037   Тестовая  \n",
       "4              0.0                8.0  82.880454  64.034483  Обучающая  \n",
       "\n",
       "[5 rows x 21 columns]"
      ]
     },
     "execution_count": 13,
     "metadata": {},
     "output_type": "execute_result"
    }
   ],
   "source": [
    "df1.head()"
   ]
  },
  {
   "cell_type": "code",
   "execution_count": 14,
   "id": "7c743802-1c88-4a34-8fa9-fb95feb13a82",
   "metadata": {},
   "outputs": [
    {
     "data": {
      "text/plain": [
       "<AxesSubplot:xlabel='Долгота', ylabel='Широта'>"
      ]
     },
     "execution_count": 14,
     "metadata": {},
     "output_type": "execute_result"
    },
    {
     "data": {
      "image/png": "[encoded data removed]",
      "text/plain": [
       "<Figure size 432x288 with 1 Axes>"
      ]
     },
     "metadata": {
      "needs_background": "light"
     },
     "output_type": "display_data"
    }
   ],
   "source": [
    "df1.plot('Долгота', 'Широта', marker = 'o', kind = 'scatter')"
   ]
  },
  {
   "cell_type": "code",
   "execution_count": 15,
   "id": "895b936b-c68c-4fc2-885b-9568ab5d2c82",
   "metadata": {},
   "outputs": [],
   "source": [
    "plt.show()"
   ]
  },
  {
   "cell_type": "code",
   "execution_count": 16,
   "id": "22e68a35-c665-4a10-b98c-7f3dd9fe22fc",
   "metadata": {},
   "outputs": [
    {
     "name": "stdout",
     "output_type": "stream",
     "text": [
      "Index(['id точки', 'Адрес', 'Долгота', 'Широта', 'Дата открытия',\n",
      "       'Дата закрытия', 'Площадь магазина', 'Тип входа', 'Площадь ТЦ',\n",
      "       'Формат магазина', 'Парковка', 'Этаж', 'Время работы',\n",
      "       'Заполненность ТЦ', 'Рядом с эскалатором', 'Рядом со входом',\n",
      "       'Конкуренты в ТЦ', 'Расположение в ТЦ', 'Толока', 'Люкс', 'Выборка'],\n",
      "      dtype='object')\n"
     ]
    }
   ],
   "source": [
    "print(df1.columns)\n"
   ]
  },
  {
   "cell_type": "code",
   "execution_count": 17,
   "id": "d7eaea53",
   "metadata": {},
   "outputs": [
    {
     "data": {
      "text/plain": [
       "dtype('<M8[ns]')"
      ]
     },
     "execution_count": 17,
     "metadata": {},
     "output_type": "execute_result"
    }
   ],
   "source": [
    "df1['Дата открытия'].dtype"
   ]
  },
  {
   "cell_type": "code",
   "execution_count": 18,
   "id": "5f8b70c4-df1d-4f54-ac41-33621d19a48b",
   "metadata": {},
   "outputs": [],
   "source": [
    "import datetime"
   ]
  },
  {
   "cell_type": "code",
   "execution_count": 19,
   "id": "54493721-f150-4fef-b42f-64ecd8fcf5cc",
   "metadata": {},
   "outputs": [],
   "source": [
    "df1['Дата открытия'] = pd.to_datetime(df1['Дата открытия'])"
   ]
  },
  {
   "cell_type": "code",
   "execution_count": 20,
   "id": "b57bf689-9d5e-45e4-ba53-c01ea1c19e13",
   "metadata": {},
   "outputs": [
    {
     "name": "stdout",
     "output_type": "stream",
     "text": [
      "Empty DataFrame\n",
      "Columns: [id точки, Адрес, Долгота, Широта, Дата открытия, Дата закрытия, Площадь магазина, Тип входа, Площадь ТЦ, Формат магазина, Парковка, Этаж, Время работы, Заполненность ТЦ, Рядом с эскалатором, Рядом со входом, Конкуренты в ТЦ, Расположение в ТЦ, Толока, Люкс, Выборка]\n",
      "Index: []\n",
      "\n",
      "[0 rows x 21 columns]\n"
     ]
    }
   ],
   "source": [
    "print(df1.loc[df1['Дата открытия'] > datetime.datetime.now()])"
   ]
  },
  {
   "cell_type": "code",
   "execution_count": 21,
   "id": "41094f3c-5b2a-4a49-adfa-c343140bd73d",
   "metadata": {},
   "outputs": [
    {
     "name": "stdout",
     "output_type": "stream",
     "text": [
      "2001-05-07 00:00:00\n"
     ]
    }
   ],
   "source": [
    "print(min(df1['Дата открытия']))"
   ]
  },
  {
   "cell_type": "code",
   "execution_count": 22,
   "id": "175a409a-30d6-4fce-aa25-b69f8a803be6",
   "metadata": {},
   "outputs": [
    {
     "data": {
      "text/html": [
       "<div>\n",
       "<style scoped>\n",
       "    .dataframe tbody tr th:only-of-type {\n",
       "        vertical-align: middle;\n",
       "    }\n",
       "\n",
       "    .dataframe tbody tr th {\n",
       "        vertical-align: top;\n",
       "    }\n",
       "\n",
       "    .dataframe thead th {\n",
       "        text-align: right;\n",
       "    }\n",
       "</style>\n",
       "<table border=\"1\" class=\"dataframe\">\n",
       "  <thead>\n",
       "    <tr style=\"text-align: right;\">\n",
       "      <th></th>\n",
       "      <th>id точки</th>\n",
       "      <th>Адрес</th>\n",
       "      <th>Долгота</th>\n",
       "      <th>Широта</th>\n",
       "      <th>Дата открытия</th>\n",
       "      <th>Дата закрытия</th>\n",
       "      <th>Площадь магазина</th>\n",
       "      <th>Тип входа</th>\n",
       "      <th>Площадь ТЦ</th>\n",
       "      <th>Формат магазина</th>\n",
       "      <th>...</th>\n",
       "      <th>Этаж</th>\n",
       "      <th>Время работы</th>\n",
       "      <th>Заполненность ТЦ</th>\n",
       "      <th>Рядом с эскалатором</th>\n",
       "      <th>Рядом со входом</th>\n",
       "      <th>Конкуренты в ТЦ</th>\n",
       "      <th>Расположение в ТЦ</th>\n",
       "      <th>Толока</th>\n",
       "      <th>Люкс</th>\n",
       "      <th>Выборка</th>\n",
       "    </tr>\n",
       "  </thead>\n",
       "  <tbody>\n",
       "  </tbody>\n",
       "</table>\n",
       "<p>0 rows × 21 columns</p>\n",
       "</div>"
      ],
      "text/plain": [
       "Empty DataFrame\n",
       "Columns: [id точки, Адрес, Долгота, Широта, Дата открытия, Дата закрытия, Площадь магазина, Тип входа, Площадь ТЦ, Формат магазина, Парковка, Этаж, Время работы, Заполненность ТЦ, Рядом с эскалатором, Рядом со входом, Конкуренты в ТЦ, Расположение в ТЦ, Толока, Люкс, Выборка]\n",
       "Index: []\n",
       "\n",
       "[0 rows x 21 columns]"
      ]
     },
     "execution_count": 22,
     "metadata": {},
     "output_type": "execute_result"
    }
   ],
   "source": [
    "df1.loc[df1['Дата открытия']  <= '2000-12-31']"
   ]
  },
  {
   "cell_type": "code",
   "execution_count": 23,
   "id": "47c49f2f-bf40-40d1-b55c-9f0e4bdb27af",
   "metadata": {},
   "outputs": [
    {
     "data": {
      "text/plain": [
       "194   2008-07-11\n",
       "Name: Дата открытия, dtype: datetime64[ns]"
      ]
     },
     "execution_count": 23,
     "metadata": {},
     "output_type": "execute_result"
    }
   ],
   "source": [
    "df1.loc[df1['id точки']  == 42220,'Дата открытия']"
   ]
  },
  {
   "cell_type": "code",
   "execution_count": 24,
   "id": "2a4b89c6-cd59-4912-a98b-f104303f9ea0",
   "metadata": {},
   "outputs": [
    {
     "data": {
      "text/plain": [
       "91"
      ]
     },
     "execution_count": 24,
     "metadata": {},
     "output_type": "execute_result"
    }
   ],
   "source": [
    "min(df['Площадь магазина'])"
   ]
  },
  {
   "cell_type": "code",
   "execution_count": 25,
   "id": "59fb749f-3aa4-4c86-b2ce-e8303707e4a0",
   "metadata": {},
   "outputs": [
    {
     "data": {
      "text/plain": [
       "1488"
      ]
     },
     "execution_count": 25,
     "metadata": {},
     "output_type": "execute_result"
    }
   ],
   "source": [
    "max(df['Площадь магазина'])"
   ]
  },
  {
   "cell_type": "code",
   "execution_count": 26,
   "id": "bfef214c-e2a1-430e-a827-5a48895b4d16",
   "metadata": {},
   "outputs": [
    {
     "data": {
      "text/plain": [
       "array(['без сквозного прохода', 'сквозной проход',\n",
       "       'отдельный вход с улицы + сквозной проход',\n",
       "       'отдельный вход с улицы', 'единственный вход в ТК', nan],\n",
       "      dtype=object)"
      ]
     },
     "execution_count": 26,
     "metadata": {},
     "output_type": "execute_result"
    }
   ],
   "source": [
    "df['Тип входа'].unique()"
   ]
  },
  {
   "cell_type": "code",
   "execution_count": 27,
   "id": "80680fb2-d793-4ce7-b4cd-d150b9f6cf94",
   "metadata": {},
   "outputs": [
    {
     "data": {
      "text/plain": [
       "700.0"
      ]
     },
     "execution_count": 27,
     "metadata": {},
     "output_type": "execute_result"
    }
   ],
   "source": [
    "min(df['Площадь ТЦ'])"
   ]
  },
  {
   "cell_type": "code",
   "execution_count": 28,
   "id": "e2c921cd-9961-4036-9eda-36cd7845023c",
   "metadata": {},
   "outputs": [
    {
     "data": {
      "text/plain": [
       "396000.0"
      ]
     },
     "execution_count": 28,
     "metadata": {},
     "output_type": "execute_result"
    }
   ],
   "source": [
    "max(df['Площадь ТЦ'])"
   ]
  },
  {
   "cell_type": "code",
   "execution_count": 29,
   "id": "48e8e670-0fd9-4ff5-a78b-70c3179527d4",
   "metadata": {},
   "outputs": [
    {
     "data": {
      "text/html": [
       "<div>\n",
       "<style scoped>\n",
       "    .dataframe tbody tr th:only-of-type {\n",
       "        vertical-align: middle;\n",
       "    }\n",
       "\n",
       "    .dataframe tbody tr th {\n",
       "        vertical-align: top;\n",
       "    }\n",
       "\n",
       "    .dataframe thead th {\n",
       "        text-align: right;\n",
       "    }\n",
       "</style>\n",
       "<table border=\"1\" class=\"dataframe\">\n",
       "  <thead>\n",
       "    <tr style=\"text-align: right;\">\n",
       "      <th></th>\n",
       "      <th>id точки</th>\n",
       "      <th>Адрес</th>\n",
       "      <th>Долгота</th>\n",
       "      <th>Широта</th>\n",
       "      <th>Дата открытия</th>\n",
       "      <th>Дата закрытия</th>\n",
       "      <th>Площадь магазина</th>\n",
       "      <th>Тип входа</th>\n",
       "      <th>Площадь ТЦ</th>\n",
       "      <th>Формат магазина</th>\n",
       "      <th>...</th>\n",
       "      <th>Этаж</th>\n",
       "      <th>Время работы</th>\n",
       "      <th>Заполненность ТЦ</th>\n",
       "      <th>Рядом с эскалатором</th>\n",
       "      <th>Рядом со входом</th>\n",
       "      <th>Конкуренты в ТЦ</th>\n",
       "      <th>Расположение в ТЦ</th>\n",
       "      <th>Толока</th>\n",
       "      <th>Люкс</th>\n",
       "      <th>Выборка</th>\n",
       "    </tr>\n",
       "  </thead>\n",
       "  <tbody>\n",
       "    <tr>\n",
       "      <th>153</th>\n",
       "      <td>41856.0</td>\n",
       "      <td>г. Москва, МКАД, 24-й километр 1, МТК \"Вегас\"</td>\n",
       "      <td>37.724657</td>\n",
       "      <td>55.586797</td>\n",
       "      <td>2012-03-15</td>\n",
       "      <td>NaT</td>\n",
       "      <td>292</td>\n",
       "      <td>сквозной проход</td>\n",
       "      <td>396000.0</td>\n",
       "      <td>ТЦ</td>\n",
       "      <td>...</td>\n",
       "      <td>1</td>\n",
       "      <td>Вс-Чт c 10:00 до 23:00           Пт-Сб с 10:00...</td>\n",
       "      <td>3.0</td>\n",
       "      <td>0</td>\n",
       "      <td>1</td>\n",
       "      <td>1.0</td>\n",
       "      <td>6.0</td>\n",
       "      <td>56.088795</td>\n",
       "      <td>69.137931</td>\n",
       "      <td>Обучающая</td>\n",
       "    </tr>\n",
       "  </tbody>\n",
       "</table>\n",
       "<p>1 rows × 21 columns</p>\n",
       "</div>"
      ],
      "text/plain": [
       "     id точки                                          Адрес    Долгота  \\\n",
       "153   41856.0  г. Москва, МКАД, 24-й километр 1, МТК \"Вегас\"  37.724657   \n",
       "\n",
       "        Широта Дата открытия Дата закрытия  Площадь магазина        Тип входа  \\\n",
       "153  55.586797    2012-03-15           NaT               292  сквозной проход   \n",
       "\n",
       "     Площадь ТЦ Формат магазина  ... Этаж  \\\n",
       "153    396000.0              ТЦ  ...    1   \n",
       "\n",
       "                                          Время работы Заполненность ТЦ  \\\n",
       "153  Вс-Чт c 10:00 до 23:00           Пт-Сб с 10:00...              3.0   \n",
       "\n",
       "     Рядом с эскалатором  Рядом со входом  Конкуренты в ТЦ  Расположение в ТЦ  \\\n",
       "153                    0                1              1.0                6.0   \n",
       "\n",
       "        Толока       Люкс    Выборка  \n",
       "153  56.088795  69.137931  Обучающая  \n",
       "\n",
       "[1 rows x 21 columns]"
      ]
     },
     "execution_count": 29,
     "metadata": {},
     "output_type": "execute_result"
    }
   ],
   "source": [
    "df1.loc[df['Площадь ТЦ']  == max(df['Площадь ТЦ'])]"
   ]
  },
  {
   "cell_type": "code",
   "execution_count": 30,
   "id": "1ae8b09d-d003-42c7-8803-c8d6dbe291a0",
   "metadata": {},
   "outputs": [
    {
     "data": {
      "text/plain": [
       "array(['ТЦ', 'Мини ТЦ', 'Strееt', 'Мини-ТЦ', 'Street', 'Стрит', 'Стрт'],\n",
       "      dtype=object)"
      ]
     },
     "execution_count": 30,
     "metadata": {},
     "output_type": "execute_result"
    }
   ],
   "source": [
    "df['Формат магазина'].unique()"
   ]
  },
  {
   "cell_type": "code",
   "execution_count": 31,
   "id": "a77e487d-82e4-4b64-b522-2bd6880925e1",
   "metadata": {},
   "outputs": [],
   "source": [
    "df1.replace(to_replace = ['Street', 'Стрт', 'Стрит', 'Strееt'], value = 'Street', inplace = True)"
   ]
  },
  {
   "cell_type": "code",
   "execution_count": 32,
   "id": "18dffdf0-ad3c-42b3-b2d4-d7b7e339b43d",
   "metadata": {},
   "outputs": [],
   "source": [
    "df1.replace(to_replace = 'Мини ТЦ', value = 'Мини-ТЦ', inplace = True)"
   ]
  },
  {
   "cell_type": "code",
   "execution_count": 33,
   "id": "c2270916-25d0-43ba-9718-f18298f7cd7a",
   "metadata": {},
   "outputs": [
    {
     "data": {
      "text/plain": [
       "array(['ТЦ', 'Мини-ТЦ', 'Street'], dtype=object)"
      ]
     },
     "execution_count": 33,
     "metadata": {},
     "output_type": "execute_result"
    }
   ],
   "source": [
    "df1['Формат магазина'].unique()"
   ]
  },
  {
   "cell_type": "code",
   "execution_count": 34,
   "id": "1c9b5675-da74-43fc-ad97-fec241ef91c8",
   "metadata": {},
   "outputs": [
    {
     "data": {
      "text/plain": [
       "array(['бесплатная парковка', 'нет парковки', 'бесплатная паpковка', nan,\n",
       "       'платная парковка', 1000, 700, 100], dtype=object)"
      ]
     },
     "execution_count": 34,
     "metadata": {},
     "output_type": "execute_result"
    }
   ],
   "source": [
    "df1['Парковка'].unique()"
   ]
  },
  {
   "cell_type": "code",
   "execution_count": 35,
   "id": "1a8bcb80-cabc-4cb8-987c-7a4c8253b983",
   "metadata": {},
   "outputs": [],
   "source": [
    "df1.replace(to_replace = ['бесплатная парковка', 'бесплатная паpковка'], value = 'бесплатная парковка', inplace = True)"
   ]
  },
  {
   "cell_type": "code",
   "execution_count": 36,
   "id": "71927c36-a91f-46b6-b371-6ebec907ca7d",
   "metadata": {},
   "outputs": [
    {
     "data": {
      "text/plain": [
       "array(['бесплатная парковка', 'нет парковки', nan, 'платная парковка',\n",
       "       1000, 700, 100], dtype=object)"
      ]
     },
     "execution_count": 36,
     "metadata": {},
     "output_type": "execute_result"
    }
   ],
   "source": [
    "df1['Парковка'].unique()"
   ]
  },
  {
   "cell_type": "code",
   "execution_count": 37,
   "id": "36129619-99e2-4730-923b-01f703bb3765",
   "metadata": {},
   "outputs": [
    {
     "data": {
      "text/plain": [
       "array([1, 'цоколь', 3, 2, nan, 20, 6], dtype=object)"
      ]
     },
     "execution_count": 37,
     "metadata": {},
     "output_type": "execute_result"
    }
   ],
   "source": [
    "df1['Этаж'].unique()"
   ]
  },
  {
   "cell_type": "code",
   "execution_count": 38,
   "id": "3ceb65f3-e042-4a76-812f-493e34fcc7f8",
   "metadata": {},
   "outputs": [
    {
     "data": {
      "text/plain": [
       "array(['с 10:00 до 22:00', 'с 11:00 до 21:00', 'с 10:00 до 21:00',\n",
       "       'с 10-00 до 22:00',\n",
       "       'Вс-Чт с 10:00 до 22:00 Пт-Сб с 10:00 до 23:00',\n",
       "       'Вс-Чт c 10:00 до 21:00           Пт-Сб с 10:00 до 22:00',\n",
       "       'Пн-Сб с 10:00 до 21:00  Вс с 11:00 до 21:00', 'с 10:00 до 23:00',\n",
       "       'пн-пт 10:30–19:30; сб 10:30–19:00; вс 11:00–18:00',\n",
       "       'Пн-Пт с 9:00 до 20:00    Сб с 10:00 до 19:00         Вс с 10:00 до 18:00',\n",
       "       'с 9:00 до 21:00', 'Пн-Сб с 10:00 до 21:00 Вс с 10:00 до 20:00',\n",
       "       'c 9:00 до 21:00', 'Вс-Чт с 10:00 до 23:00 Пт-Сб с 10:00 до 24:00',\n",
       "       'Вс-Чт c 10:00 до 23:00           Пт-Сб с 10:00 до 24:00',\n",
       "       'с 9:00 до 23:00', 'с 10:00 до 22:00 ', 'круглосуточно',\n",
       "       'Вс-Чт c 10:00 до 22:00           Пт-Сб с 10:00 до 23:00',\n",
       "       'Вс-Чт с 10:00 до 22:00    Пт-Сб с 10:00 до 23:00',\n",
       "       'c 10:00 до 24:00', '10:00–22:00',\n",
       "       'Пн-Сб с 10:00 до 20:00 Вс с 10:00 до 19:00', nan,\n",
       "       'Вс-Чт c 10:00 до 21:00    Пт-Сб с 10:00 до 22:00',\n",
       "       'Пн-Сб c 10:00 до 20:00 Вс с 10:00 до 19:00 ', 'с 10:00 до 20:00',\n",
       "       'c 10-00 до 21-00',\n",
       "       'Вс-Чт с 10:00 до 21:00     Пт-Сб с  10:00 до 22:00'], dtype=object)"
      ]
     },
     "execution_count": 38,
     "metadata": {},
     "output_type": "execute_result"
    }
   ],
   "source": [
    "df1['Время работы'].unique()"
   ]
  },
  {
   "cell_type": "code",
   "execution_count": 39,
   "id": "45851b1c-cc19-47e0-a869-2b41926dc688",
   "metadata": {},
   "outputs": [
    {
     "data": {
      "text/plain": [
       "array([ 3.,  2., nan,  1.,  0.])"
      ]
     },
     "execution_count": 39,
     "metadata": {},
     "output_type": "execute_result"
    }
   ],
   "source": [
    "df1['Заполненность ТЦ'].unique()"
   ]
  },
  {
   "cell_type": "code",
   "execution_count": 40,
   "id": "8abd4c0d-d52d-4cc5-9fe5-34d9c80b623a",
   "metadata": {},
   "outputs": [
    {
     "data": {
      "text/plain": [
       "array(['Обучающая', 'Тестовая', '-', nan, 'Тест', 'Обyчающая'],\n",
       "      dtype=object)"
      ]
     },
     "execution_count": 40,
     "metadata": {},
     "output_type": "execute_result"
    }
   ],
   "source": [
    "df1['Выборка'].unique()"
   ]
  },
  {
   "cell_type": "code",
   "execution_count": 41,
   "id": "f0cbf0ba-256d-40cc-95c5-bf3629f92693",
   "metadata": {},
   "outputs": [],
   "source": [
    "df1.replace(to_replace = ['Обучающая', 'Обyчающая'], value = 'Обучающая', inplace = True)"
   ]
  },
  {
   "cell_type": "code",
   "execution_count": 42,
   "id": "ed68601c-c6a6-469c-a4b3-b6f21b27707d",
   "metadata": {},
   "outputs": [
    {
     "data": {
      "text/plain": [
       "array(['Обучающая', 'Тестовая', '-', nan, 'Тест'], dtype=object)"
      ]
     },
     "execution_count": 42,
     "metadata": {},
     "output_type": "execute_result"
    }
   ],
   "source": [
    "df1['Выборка'].unique()"
   ]
  },
  {
   "cell_type": "code",
   "execution_count": 43,
   "id": "11a5191e-b3b7-4f5c-92e8-b0f74cc0dc8a",
   "metadata": {},
   "outputs": [],
   "source": [
    "df1.replace(to_replace = ['Тестовая', 'Тест'], value = 'Тестовая', inplace = True)"
   ]
  },
  {
   "cell_type": "code",
   "execution_count": 44,
   "id": "417d0de7-439c-4369-a17f-0aa50310f01d",
   "metadata": {},
   "outputs": [
    {
     "data": {
      "text/plain": [
       "array(['Обучающая', 'Тестовая', '-', nan], dtype=object)"
      ]
     },
     "execution_count": 44,
     "metadata": {},
     "output_type": "execute_result"
    }
   ],
   "source": [
    "df1['Выборка'].unique()"
   ]
  },
  {
   "cell_type": "code",
   "execution_count": 45,
   "id": "4888ab87-b341-40b7-b613-5980281511ce",
   "metadata": {},
   "outputs": [],
   "source": [
    "df3 = pd.read_excel('ООО_Внимание_к_деталям1.xlsx', sheet_name = 1)"
   ]
  },
  {
   "cell_type": "code",
   "execution_count": 46,
   "id": "e8b2852d-4f42-427d-bcec-8a9a1af4c189",
   "metadata": {},
   "outputs": [
    {
     "data": {
      "text/html": [
       "<div>\n",
       "<style scoped>\n",
       "    .dataframe tbody tr th:only-of-type {\n",
       "        vertical-align: middle;\n",
       "    }\n",
       "\n",
       "    .dataframe tbody tr th {\n",
       "        vertical-align: top;\n",
       "    }\n",
       "\n",
       "    .dataframe thead th {\n",
       "        text-align: right;\n",
       "    }\n",
       "</style>\n",
       "<table border=\"1\" class=\"dataframe\">\n",
       "  <thead>\n",
       "    <tr style=\"text-align: right;\">\n",
       "      <th></th>\n",
       "      <th>id точки</th>\n",
       "      <th>2015-01-01</th>\n",
       "      <th>2015-02-01</th>\n",
       "      <th>2015-03-01</th>\n",
       "      <th>2015-04-01</th>\n",
       "      <th>2015-05-01</th>\n",
       "      <th>2015-06-01</th>\n",
       "      <th>2015-07-01</th>\n",
       "      <th>2015-08-01</th>\n",
       "      <th>2015-09-01</th>\n",
       "      <th>...</th>\n",
       "      <th>2018-01-01</th>\n",
       "      <th>2018-02-01</th>\n",
       "      <th>2018-04-01</th>\n",
       "      <th>2018-05-01</th>\n",
       "      <th>2018-06-01</th>\n",
       "      <th>2018-07-01</th>\n",
       "      <th>2018-08-01</th>\n",
       "      <th>2018-09-01</th>\n",
       "      <th>2018-10-01</th>\n",
       "      <th>2018-11-01</th>\n",
       "    </tr>\n",
       "  </thead>\n",
       "  <tbody>\n",
       "    <tr>\n",
       "      <th>0</th>\n",
       "      <td>11366.0</td>\n",
       "      <td>245709.342667</td>\n",
       "      <td>301024.685000</td>\n",
       "      <td>406199.782258</td>\n",
       "      <td>295602.853000</td>\n",
       "      <td>268179.172258</td>\n",
       "      <td>266579.009667</td>\n",
       "      <td>202667.039355</td>\n",
       "      <td>207347.022581</td>\n",
       "      <td>237393.216667</td>\n",
       "      <td>...</td>\n",
       "      <td>271084.023513</td>\n",
       "      <td>298845.267500</td>\n",
       "      <td>277776.347333</td>\n",
       "      <td>270902.919677</td>\n",
       "      <td>280106.099000</td>\n",
       "      <td>243448.836129</td>\n",
       "      <td>236709.816452</td>\n",
       "      <td>248268.778333</td>\n",
       "      <td>296637.103226</td>\n",
       "      <td>314456.870000</td>\n",
       "    </tr>\n",
       "    <tr>\n",
       "      <th>1</th>\n",
       "      <td>11810.0</td>\n",
       "      <td>270245.842066</td>\n",
       "      <td>297964.820199</td>\n",
       "      <td>406198.175918</td>\n",
       "      <td>232433.263996</td>\n",
       "      <td>229317.708387</td>\n",
       "      <td>251403.308057</td>\n",
       "      <td>242000.555806</td>\n",
       "      <td>260407.109247</td>\n",
       "      <td>267051.162996</td>\n",
       "      <td>...</td>\n",
       "      <td>245402.383180</td>\n",
       "      <td>273515.012143</td>\n",
       "      <td>240088.292000</td>\n",
       "      <td>196260.466452</td>\n",
       "      <td>228920.589000</td>\n",
       "      <td>204058.825161</td>\n",
       "      <td>207104.013135</td>\n",
       "      <td>203499.409840</td>\n",
       "      <td>206013.017419</td>\n",
       "      <td>218636.436000</td>\n",
       "    </tr>\n",
       "    <tr>\n",
       "      <th>2</th>\n",
       "      <td>15041.0</td>\n",
       "      <td>171972.976000</td>\n",
       "      <td>198141.440000</td>\n",
       "      <td>260215.741935</td>\n",
       "      <td>205316.010644</td>\n",
       "      <td>187059.870968</td>\n",
       "      <td>198590.970667</td>\n",
       "      <td>178250.637781</td>\n",
       "      <td>187094.699355</td>\n",
       "      <td>211000.005517</td>\n",
       "      <td>...</td>\n",
       "      <td>174154.623627</td>\n",
       "      <td>173190.240000</td>\n",
       "      <td>240396.837333</td>\n",
       "      <td>241494.616774</td>\n",
       "      <td>264873.765333</td>\n",
       "      <td>227461.233548</td>\n",
       "      <td>249503.230968</td>\n",
       "      <td>251805.680000</td>\n",
       "      <td>263152.960000</td>\n",
       "      <td>269913.018667</td>\n",
       "    </tr>\n",
       "    <tr>\n",
       "      <th>3</th>\n",
       "      <td>15775.0</td>\n",
       "      <td>409032.989736</td>\n",
       "      <td>468816.460949</td>\n",
       "      <td>582717.510920</td>\n",
       "      <td>442807.529886</td>\n",
       "      <td>371689.316054</td>\n",
       "      <td>428430.990000</td>\n",
       "      <td>365894.971255</td>\n",
       "      <td>384266.496739</td>\n",
       "      <td>385515.509997</td>\n",
       "      <td>...</td>\n",
       "      <td>431909.251500</td>\n",
       "      <td>493571.089286</td>\n",
       "      <td>408575.490000</td>\n",
       "      <td>387081.406452</td>\n",
       "      <td>418398.840000</td>\n",
       "      <td>362395.248387</td>\n",
       "      <td>393423.329032</td>\n",
       "      <td>387866.910000</td>\n",
       "      <td>421387.374194</td>\n",
       "      <td>481330.143000</td>\n",
       "    </tr>\n",
       "    <tr>\n",
       "      <th>4</th>\n",
       "      <td>16102.0</td>\n",
       "      <td>437693.191667</td>\n",
       "      <td>510077.198214</td>\n",
       "      <td>602107.617742</td>\n",
       "      <td>465779.798333</td>\n",
       "      <td>423448.914516</td>\n",
       "      <td>414476.575000</td>\n",
       "      <td>370944.770968</td>\n",
       "      <td>392089.754839</td>\n",
       "      <td>416797.330000</td>\n",
       "      <td>...</td>\n",
       "      <td>378429.858867</td>\n",
       "      <td>453511.489286</td>\n",
       "      <td>388849.670000</td>\n",
       "      <td>369223.219355</td>\n",
       "      <td>392389.013333</td>\n",
       "      <td>328593.246774</td>\n",
       "      <td>350885.291935</td>\n",
       "      <td>369367.358333</td>\n",
       "      <td>427575.006452</td>\n",
       "      <td>472508.001667</td>\n",
       "    </tr>\n",
       "  </tbody>\n",
       "</table>\n",
       "<p>5 rows × 47 columns</p>\n",
       "</div>"
      ],
      "text/plain": [
       "   id точки     2015-01-01     2015-02-01     2015-03-01     2015-04-01  \\\n",
       "0   11366.0  245709.342667  301024.685000  406199.782258  295602.853000   \n",
       "1   11810.0  270245.842066  297964.820199  406198.175918  232433.263996   \n",
       "2   15041.0  171972.976000  198141.440000  260215.741935  205316.010644   \n",
       "3   15775.0  409032.989736  468816.460949  582717.510920  442807.529886   \n",
       "4   16102.0  437693.191667  510077.198214  602107.617742  465779.798333   \n",
       "\n",
       "      2015-05-01     2015-06-01     2015-07-01     2015-08-01     2015-09-01  \\\n",
       "0  268179.172258  266579.009667  202667.039355  207347.022581  237393.216667   \n",
       "1  229317.708387  251403.308057  242000.555806  260407.109247  267051.162996   \n",
       "2  187059.870968  198590.970667  178250.637781  187094.699355  211000.005517   \n",
       "3  371689.316054  428430.990000  365894.971255  384266.496739  385515.509997   \n",
       "4  423448.914516  414476.575000  370944.770968  392089.754839  416797.330000   \n",
       "\n",
       "   ...     2018-01-01     2018-02-01     2018-04-01     2018-05-01  \\\n",
       "0  ...  271084.023513  298845.267500  277776.347333  270902.919677   \n",
       "1  ...  245402.383180  273515.012143  240088.292000  196260.466452   \n",
       "2  ...  174154.623627  173190.240000  240396.837333  241494.616774   \n",
       "3  ...  431909.251500  493571.089286  408575.490000  387081.406452   \n",
       "4  ...  378429.858867  453511.489286  388849.670000  369223.219355   \n",
       "\n",
       "      2018-06-01     2018-07-01     2018-08-01     2018-09-01     2018-10-01  \\\n",
       "0  280106.099000  243448.836129  236709.816452  248268.778333  296637.103226   \n",
       "1  228920.589000  204058.825161  207104.013135  203499.409840  206013.017419   \n",
       "2  264873.765333  227461.233548  249503.230968  251805.680000  263152.960000   \n",
       "3  418398.840000  362395.248387  393423.329032  387866.910000  421387.374194   \n",
       "4  392389.013333  328593.246774  350885.291935  369367.358333  427575.006452   \n",
       "\n",
       "      2018-11-01  \n",
       "0  314456.870000  \n",
       "1  218636.436000  \n",
       "2  269913.018667  \n",
       "3  481330.143000  \n",
       "4  472508.001667  \n",
       "\n",
       "[5 rows x 47 columns]"
      ]
     },
     "execution_count": 46,
     "metadata": {},
     "output_type": "execute_result"
    }
   ],
   "source": [
    "df3.head()"
   ]
  },
  {
   "cell_type": "code",
   "execution_count": 47,
   "id": "5d571fc8-0c45-4fa9-88ac-1ea832f3adf3",
   "metadata": {},
   "outputs": [],
   "source": [
    "df4 = pd.melt(df3, id_vars = 'id точки', ignore_index=True)"
   ]
  },
  {
   "cell_type": "code",
   "execution_count": 48,
   "id": "9f1f8442-2c18-4d89-ac32-c16e90c1c6e4",
   "metadata": {},
   "outputs": [
    {
     "name": "stdout",
     "output_type": "stream",
     "text": [
      "   id точки    variable          value\n",
      "0   11366.0  2015-01-01  245709.342667\n",
      "1   11810.0  2015-01-01  270245.842066\n",
      "2   15041.0  2015-01-01     171972.976\n",
      "3   15775.0  2015-01-01  409032.989736\n",
      "4   16102.0  2015-01-01  437693.191667\n"
     ]
    }
   ],
   "source": [
    "print(df4.head())"
   ]
  },
  {
   "cell_type": "code",
   "execution_count": 49,
   "id": "6e845ba3-fa2f-4461-93e8-fa4d4a02462b",
   "metadata": {},
   "outputs": [
    {
     "data": {
      "text/plain": [
       "id точки    46\n",
       "variable    46\n",
       "value       46\n",
       "dtype: int64"
      ]
     },
     "execution_count": 49,
     "metadata": {},
     "output_type": "execute_result"
    }
   ],
   "source": [
    "df4.loc[df4['id точки'] == 11366.0].count()"
   ]
  },
  {
   "cell_type": "code",
   "execution_count": 50,
   "id": "fa10a04b-f1bf-432b-ab95-2ec122748923",
   "metadata": {},
   "outputs": [],
   "source": [
    "df4['value'] = pd.to_numeric(df4['value'],errors='ignore')"
   ]
  },
  {
   "cell_type": "code",
   "execution_count": 51,
   "id": "c27b751b-35d6-4367-89cf-5813733359de",
   "metadata": {},
   "outputs": [],
   "source": [
    "def is_pd_numeric(x):\n",
    "    try:\n",
    "        pd.to_numeric(x, errors=\"raise\")\n",
    "        return True\n",
    "    except:\n",
    "        return False"
   ]
  },
  {
   "cell_type": "code",
   "execution_count": 52,
   "id": "25161301-e40f-42ff-af8a-18f80bc53eae",
   "metadata": {},
   "outputs": [],
   "source": [
    "df4['valuen'] = df4['value'].map(is_pd_numeric)"
   ]
  },
  {
   "cell_type": "code",
   "execution_count": 53,
   "id": "6204e5bf-9320-429f-9ca6-477e3b968901",
   "metadata": {},
   "outputs": [
    {
     "name": "stdout",
     "output_type": "stream",
     "text": [
      "      id точки    variable         value  valuen\n",
      "1555   16418.0  2015-11-01  1 260 110,78   False\n",
      "1615   42238.0  2015-11-01    336 048.92   False\n",
      "1770   42238.0  2015-12-01    705 402.96   False\n",
      "1925   42238.0  2016-01-01    284 880.04   False\n",
      "2064   42132.0  2016-02-01    565 006.39   False\n",
      "2066   42151.0  2016-02-01  3 765 959,65   False\n",
      "2219   42132.0  2016-03-01    740 025.32   False\n",
      "2221   42151.0  2016-03-01  4 396 496,06   False\n",
      "2225   42191.0  2016-03-01  2 070 484,72   False\n",
      "2376   42151.0  2016-04-01  3 548 574,21   False\n",
      "2380   42191.0  2016-04-01  1 622 718,72   False\n",
      "2531   42151.0  2016-05-01  3 004 449,48   False\n",
      "2535   42191.0  2016-05-01  1 704 226,37   False\n",
      "3444   42019.0  2016-11-01    409 920,76   False\n",
      "3599   42019.0  2016-12-01    731 540,48   False\n",
      "3644   42355.0  2016-12-01    179 944.79   False\n",
      "3754   42019.0  2017-01-01    359 273,61   False\n",
      "3909   42019.0  2017-02-01    422 936,10   False\n"
     ]
    }
   ],
   "source": [
    "print(df4[df4['valuen'] == False])"
   ]
  },
  {
   "cell_type": "code",
   "execution_count": 56,
   "id": "7393d94d-8363-42d6-ab8f-1460065203ba",
   "metadata": {},
   "outputs": [
    {
     "data": {
      "text/plain": [
       "dtype('O')"
      ]
     },
     "execution_count": 56,
     "metadata": {},
     "output_type": "execute_result"
    }
   ],
   "source": [
    "df4['value'].dtype"
   ]
  },
  {
   "cell_type": "code",
   "execution_count": 80,
   "id": "5ef1eb2a-b73a-45da-80fb-b87aea4561c3",
   "metadata": {},
   "outputs": [],
   "source": [
    "df4.loc[df4['valuen'] == False,'value'] = df4[df4['valuen'] == False]['value'].str.replace(\" \",\"\")"
   ]
  },
  {
   "cell_type": "code",
   "execution_count": 84,
   "id": "f437f960-07ad-47e5-866b-7610b8ac431a",
   "metadata": {},
   "outputs": [],
   "source": [
    "df4.loc[df4['valuen'] == False,'value'] = df4[df4['valuen'] == False]['value'].str.replace(\",\",\".\")"
   ]
  },
  {
   "cell_type": "code",
   "execution_count": 85,
   "id": "849d202f-45b3-4e77-982a-72c40e85dd47",
   "metadata": {},
   "outputs": [
    {
     "name": "stdout",
     "output_type": "stream",
     "text": [
      "      id точки    variable       value  valuen\n",
      "1555   16418.0  2015-11-01  1260110.78     0.0\n",
      "1615   42238.0  2015-11-01   336048.92     0.0\n",
      "1770   42238.0  2015-12-01   705402.96     0.0\n",
      "1925   42238.0  2016-01-01   284880.04     0.0\n",
      "2064   42132.0  2016-02-01   565006.39     0.0\n",
      "2066   42151.0  2016-02-01  3765959.65     0.0\n",
      "2219   42132.0  2016-03-01   740025.32     0.0\n",
      "2221   42151.0  2016-03-01  4396496.06     0.0\n",
      "2225   42191.0  2016-03-01  2070484.72     0.0\n",
      "2376   42151.0  2016-04-01  3548574.21     0.0\n",
      "2380   42191.0  2016-04-01  1622718.72     0.0\n",
      "2531   42151.0  2016-05-01  3004449.48     0.0\n",
      "2535   42191.0  2016-05-01  1704226.37     0.0\n",
      "3444   42019.0  2016-11-01   409920.76     0.0\n",
      "3599   42019.0  2016-12-01   731540.48     0.0\n",
      "3644   42355.0  2016-12-01   179944.79     0.0\n",
      "3754   42019.0  2017-01-01   359273.61     0.0\n",
      "3909   42019.0  2017-02-01   422936.10     0.0\n"
     ]
    }
   ],
   "source": [
    "print(df4[df4['valuen'] == False])"
   ]
  },
  {
   "cell_type": "code",
   "execution_count": null,
   "id": "7aec05e9-4212-4018-b17d-5bdbbaea9443",
   "metadata": {},
   "outputs": [],
   "source": []
  },
  {
   "cell_type": "code",
   "execution_count": 88,
   "id": "c3d58f23-1543-4beb-9b8e-0a87dd3ca24e",
   "metadata": {},
   "outputs": [],
   "source": [
    "df4['value'] = pd.to_numeric(df4['value'], errors=\"raise\")"
   ]
  },
  {
   "cell_type": "code",
   "execution_count": 90,
   "id": "4affe565-6fb4-4205-a542-0e8c37762c88",
   "metadata": {},
   "outputs": [
    {
     "data": {
      "text/plain": [
       "6251272.11628374"
      ]
     },
     "execution_count": 90,
     "metadata": {},
     "output_type": "execute_result"
    }
   ],
   "source": [
    "df4['value'].max()"
   ]
  },
  {
   "cell_type": "code",
   "execution_count": 94,
   "id": "bfb7ee8c-9605-4f5f-bd4c-d42fe6e4782e",
   "metadata": {},
   "outputs": [
    {
     "data": {
      "text/plain": [
       "419255.36172128"
      ]
     },
     "execution_count": 94,
     "metadata": {},
     "output_type": "execute_result"
    }
   ],
   "source": [
    "df4['value'].mean()"
   ]
  },
  {
   "cell_type": "code",
   "execution_count": 93,
   "id": "fcb1544e-82b1-4e52-8255-ea3fd4b82133",
   "metadata": {},
   "outputs": [
    {
     "data": {
      "text/plain": [
       "-647640.294"
      ]
     },
     "execution_count": 93,
     "metadata": {},
     "output_type": "execute_result"
    }
   ],
   "source": [
    "df4['value'].min()"
   ]
  },
  {
   "cell_type": "code",
   "execution_count": 97,
   "id": "899cb9a0-022f-4acf-8ba4-fb1d0e53a380",
   "metadata": {},
   "outputs": [
    {
     "data": {
      "text/html": [
       "<div>\n",
       "<style scoped>\n",
       "    .dataframe tbody tr th:only-of-type {\n",
       "        vertical-align: middle;\n",
       "    }\n",
       "\n",
       "    .dataframe tbody tr th {\n",
       "        vertical-align: top;\n",
       "    }\n",
       "\n",
       "    .dataframe thead th {\n",
       "        text-align: right;\n",
       "    }\n",
       "</style>\n",
       "<table border=\"1\" class=\"dataframe\">\n",
       "  <thead>\n",
       "    <tr style=\"text-align: right;\">\n",
       "      <th></th>\n",
       "      <th>id точки</th>\n",
       "      <th>variable</th>\n",
       "      <th>value</th>\n",
       "      <th>valuen</th>\n",
       "    </tr>\n",
       "  </thead>\n",
       "  <tbody>\n",
       "    <tr>\n",
       "      <th>3616</th>\n",
       "      <td>42151.0</td>\n",
       "      <td>2016-12-01</td>\n",
       "      <td>6.251272e+06</td>\n",
       "      <td>1.0</td>\n",
       "    </tr>\n",
       "  </tbody>\n",
       "</table>\n",
       "</div>"
      ],
      "text/plain": [
       "      id точки    variable         value  valuen\n",
       "3616   42151.0  2016-12-01  6.251272e+06     1.0"
      ]
     },
     "execution_count": 97,
     "metadata": {},
     "output_type": "execute_result"
    }
   ],
   "source": [
    "df4.loc[df4['value'] == df4['value'].max()]"
   ]
  },
  {
   "cell_type": "code",
   "execution_count": 104,
   "id": "f43ddcd3-16a0-44c1-81d6-9401c09b0caa",
   "metadata": {},
   "outputs": [
    {
     "data": {
      "text/html": [
       "<div>\n",
       "<style scoped>\n",
       "    .dataframe tbody tr th:only-of-type {\n",
       "        vertical-align: middle;\n",
       "    }\n",
       "\n",
       "    .dataframe tbody tr th {\n",
       "        vertical-align: top;\n",
       "    }\n",
       "\n",
       "    .dataframe thead th {\n",
       "        text-align: right;\n",
       "    }\n",
       "</style>\n",
       "<table border=\"1\" class=\"dataframe\">\n",
       "  <thead>\n",
       "    <tr style=\"text-align: right;\">\n",
       "      <th></th>\n",
       "      <th>id точки</th>\n",
       "      <th>variable</th>\n",
       "      <th>value</th>\n",
       "      <th>valuen</th>\n",
       "    </tr>\n",
       "  </thead>\n",
       "  <tbody>\n",
       "    <tr>\n",
       "      <th>2149</th>\n",
       "      <td>42743.0</td>\n",
       "      <td>2016-02-01</td>\n",
       "      <td>0.0</td>\n",
       "      <td>1.0</td>\n",
       "    </tr>\n",
       "    <tr>\n",
       "      <th>2304</th>\n",
       "      <td>42743.0</td>\n",
       "      <td>2016-03-01</td>\n",
       "      <td>0.0</td>\n",
       "      <td>1.0</td>\n",
       "    </tr>\n",
       "    <tr>\n",
       "      <th>2459</th>\n",
       "      <td>42743.0</td>\n",
       "      <td>2016-04-01</td>\n",
       "      <td>0.0</td>\n",
       "      <td>1.0</td>\n",
       "    </tr>\n",
       "    <tr>\n",
       "      <th>2614</th>\n",
       "      <td>42743.0</td>\n",
       "      <td>2016-05-01</td>\n",
       "      <td>0.0</td>\n",
       "      <td>1.0</td>\n",
       "    </tr>\n",
       "    <tr>\n",
       "      <th>2769</th>\n",
       "      <td>42743.0</td>\n",
       "      <td>2016-06-01</td>\n",
       "      <td>0.0</td>\n",
       "      <td>1.0</td>\n",
       "    </tr>\n",
       "    <tr>\n",
       "      <th>2924</th>\n",
       "      <td>42743.0</td>\n",
       "      <td>2016-07-01</td>\n",
       "      <td>0.0</td>\n",
       "      <td>1.0</td>\n",
       "    </tr>\n",
       "    <tr>\n",
       "      <th>5175</th>\n",
       "      <td>42217.0</td>\n",
       "      <td>2017-10-01</td>\n",
       "      <td>1.0</td>\n",
       "      <td>1.0</td>\n",
       "    </tr>\n",
       "    <tr>\n",
       "      <th>5259</th>\n",
       "      <td>42826.0</td>\n",
       "      <td>2017-10-01</td>\n",
       "      <td>25.6</td>\n",
       "      <td>1.0</td>\n",
       "    </tr>\n",
       "    <tr>\n",
       "      <th>5330</th>\n",
       "      <td>42217.0</td>\n",
       "      <td>2017-11-01</td>\n",
       "      <td>1.0</td>\n",
       "      <td>1.0</td>\n",
       "    </tr>\n",
       "    <tr>\n",
       "      <th>5485</th>\n",
       "      <td>42217.0</td>\n",
       "      <td>2017-12-01</td>\n",
       "      <td>1.0</td>\n",
       "      <td>1.0</td>\n",
       "    </tr>\n",
       "    <tr>\n",
       "      <th>5640</th>\n",
       "      <td>42217.0</td>\n",
       "      <td>2018-01-01</td>\n",
       "      <td>1.0</td>\n",
       "      <td>1.0</td>\n",
       "    </tr>\n",
       "    <tr>\n",
       "      <th>5795</th>\n",
       "      <td>42217.0</td>\n",
       "      <td>2018-02-01</td>\n",
       "      <td>1.0</td>\n",
       "      <td>1.0</td>\n",
       "    </tr>\n",
       "  </tbody>\n",
       "</table>\n",
       "</div>"
      ],
      "text/plain": [
       "      id точки    variable  value  valuen\n",
       "2149   42743.0  2016-02-01    0.0     1.0\n",
       "2304   42743.0  2016-03-01    0.0     1.0\n",
       "2459   42743.0  2016-04-01    0.0     1.0\n",
       "2614   42743.0  2016-05-01    0.0     1.0\n",
       "2769   42743.0  2016-06-01    0.0     1.0\n",
       "2924   42743.0  2016-07-01    0.0     1.0\n",
       "5175   42217.0  2017-10-01    1.0     1.0\n",
       "5259   42826.0  2017-10-01   25.6     1.0\n",
       "5330   42217.0  2017-11-01    1.0     1.0\n",
       "5485   42217.0  2017-12-01    1.0     1.0\n",
       "5640   42217.0  2018-01-01    1.0     1.0\n",
       "5795   42217.0  2018-02-01    1.0     1.0"
      ]
     },
     "execution_count": 104,
     "metadata": {},
     "output_type": "execute_result"
    }
   ],
   "source": [
    "df4[(df4['value'] < 1000) & (df4['value'] > -1000)]"
   ]
  },
  {
   "cell_type": "code",
   "execution_count": 159,
   "id": "5e70315c-a713-46ca-a6a9-e599a3fd336a",
   "metadata": {},
   "outputs": [
    {
     "data": {
      "text/html": [
       "<div>\n",
       "<style scoped>\n",
       "    .dataframe tbody tr th:only-of-type {\n",
       "        vertical-align: middle;\n",
       "    }\n",
       "\n",
       "    .dataframe tbody tr th {\n",
       "        vertical-align: top;\n",
       "    }\n",
       "\n",
       "    .dataframe thead th {\n",
       "        text-align: right;\n",
       "    }\n",
       "</style>\n",
       "<table border=\"1\" class=\"dataframe\">\n",
       "  <thead>\n",
       "    <tr style=\"text-align: right;\">\n",
       "      <th></th>\n",
       "      <th>id точки</th>\n",
       "      <th>Адрес</th>\n",
       "      <th>Долгота</th>\n",
       "      <th>Широта</th>\n",
       "      <th>Дата открытия</th>\n",
       "      <th>Дата закрытия</th>\n",
       "      <th>Площадь магазина</th>\n",
       "      <th>Тип входа</th>\n",
       "      <th>Площадь ТЦ</th>\n",
       "      <th>Формат магазина</th>\n",
       "      <th>...</th>\n",
       "      <th>Этаж</th>\n",
       "      <th>Время работы</th>\n",
       "      <th>Заполненность ТЦ</th>\n",
       "      <th>Рядом с эскалатором</th>\n",
       "      <th>Рядом со входом</th>\n",
       "      <th>Конкуренты в ТЦ</th>\n",
       "      <th>Расположение в ТЦ</th>\n",
       "      <th>Толока</th>\n",
       "      <th>Люкс</th>\n",
       "      <th>Выборка</th>\n",
       "    </tr>\n",
       "  </thead>\n",
       "  <tbody>\n",
       "    <tr>\n",
       "      <th>17</th>\n",
       "      <td>42345.0</td>\n",
       "      <td>Ленинградская обл, г. Выборг, ул. Северная, до...</td>\n",
       "      <td>28.750976</td>\n",
       "      <td>60.711041</td>\n",
       "      <td>2006-06-01</td>\n",
       "      <td>NaT</td>\n",
       "      <td>150</td>\n",
       "      <td>отдельный вход с улицы</td>\n",
       "      <td>NaN</td>\n",
       "      <td>Street</td>\n",
       "      <td>...</td>\n",
       "      <td>3</td>\n",
       "      <td>с 10:00 до 21:00</td>\n",
       "      <td>NaN</td>\n",
       "      <td>0</td>\n",
       "      <td>1</td>\n",
       "      <td>NaN</td>\n",
       "      <td>NaN</td>\n",
       "      <td>22.997501</td>\n",
       "      <td>46.482759</td>\n",
       "      <td>Тестовая</td>\n",
       "    </tr>\n",
       "    <tr>\n",
       "      <th>37</th>\n",
       "      <td>42059.0</td>\n",
       "      <td>г. Санкт-Петербург, Невский пр., дом № 27</td>\n",
       "      <td>30.327007</td>\n",
       "      <td>59.935056</td>\n",
       "      <td>2005-03-03</td>\n",
       "      <td>NaT</td>\n",
       "      <td>234</td>\n",
       "      <td>отдельный вход с улицы</td>\n",
       "      <td>NaN</td>\n",
       "      <td>Street</td>\n",
       "      <td>...</td>\n",
       "      <td>1</td>\n",
       "      <td>с 10:00 до 22:00</td>\n",
       "      <td>NaN</td>\n",
       "      <td>0</td>\n",
       "      <td>1</td>\n",
       "      <td>NaN</td>\n",
       "      <td>3.0</td>\n",
       "      <td>77.000192</td>\n",
       "      <td>77.965517</td>\n",
       "      <td>Тестовая</td>\n",
       "    </tr>\n",
       "    <tr>\n",
       "      <th>39</th>\n",
       "      <td>42072.0</td>\n",
       "      <td>г. Санкт-Петербург, Невский пр., дом № 90-92, ...</td>\n",
       "      <td>30.352412</td>\n",
       "      <td>59.932428</td>\n",
       "      <td>2003-09-16</td>\n",
       "      <td>NaT</td>\n",
       "      <td>136</td>\n",
       "      <td>отдельный вход с улицы</td>\n",
       "      <td>NaN</td>\n",
       "      <td>Street</td>\n",
       "      <td>...</td>\n",
       "      <td>3</td>\n",
       "      <td>с 10:00 до 22:00</td>\n",
       "      <td>NaN</td>\n",
       "      <td>0</td>\n",
       "      <td>1</td>\n",
       "      <td>0.0</td>\n",
       "      <td>NaN</td>\n",
       "      <td>43.738228</td>\n",
       "      <td>74.862069</td>\n",
       "      <td>Тестовая</td>\n",
       "    </tr>\n",
       "    <tr>\n",
       "      <th>76</th>\n",
       "      <td>42466.0</td>\n",
       "      <td>Новгородская обл, г. Великий Новгород, ул. Газ...</td>\n",
       "      <td>31.271550</td>\n",
       "      <td>58.524624</td>\n",
       "      <td>2011-04-14</td>\n",
       "      <td>NaT</td>\n",
       "      <td>375</td>\n",
       "      <td>отдельный вход с улицы</td>\n",
       "      <td>NaN</td>\n",
       "      <td>Street</td>\n",
       "      <td>...</td>\n",
       "      <td>3</td>\n",
       "      <td>с 10:00 до 21:00</td>\n",
       "      <td>NaN</td>\n",
       "      <td>0</td>\n",
       "      <td>1</td>\n",
       "      <td>NaN</td>\n",
       "      <td>NaN</td>\n",
       "      <td>21.730924</td>\n",
       "      <td>48.931034</td>\n",
       "      <td>Тестовая</td>\n",
       "    </tr>\n",
       "    <tr>\n",
       "      <th>201</th>\n",
       "      <td>42499.0</td>\n",
       "      <td>Оренбургская обл, г. Оренбург, ул. Володарског...</td>\n",
       "      <td>55.102543</td>\n",
       "      <td>51.768377</td>\n",
       "      <td>2007-02-11</td>\n",
       "      <td>NaT</td>\n",
       "      <td>272</td>\n",
       "      <td>отдельный вход с улицы</td>\n",
       "      <td>NaN</td>\n",
       "      <td>Street</td>\n",
       "      <td>...</td>\n",
       "      <td>1</td>\n",
       "      <td>с 10:00 до 21:00</td>\n",
       "      <td>2.0</td>\n",
       "      <td>0</td>\n",
       "      <td>1</td>\n",
       "      <td>NaN</td>\n",
       "      <td>NaN</td>\n",
       "      <td>43.510475</td>\n",
       "      <td>68.620690</td>\n",
       "      <td>Тестовая</td>\n",
       "    </tr>\n",
       "    <tr>\n",
       "      <th>236</th>\n",
       "      <td>42792.0</td>\n",
       "      <td>Ставропольский край, Пятигорск, улица Крайнего...</td>\n",
       "      <td>43.070993</td>\n",
       "      <td>44.036763</td>\n",
       "      <td>2015-11-11</td>\n",
       "      <td>NaT</td>\n",
       "      <td>429</td>\n",
       "      <td>без сквозного прохода</td>\n",
       "      <td>NaN</td>\n",
       "      <td>Street</td>\n",
       "      <td>...</td>\n",
       "      <td>1</td>\n",
       "      <td>с 10:00 до 21:00</td>\n",
       "      <td>NaN</td>\n",
       "      <td>0</td>\n",
       "      <td>0</td>\n",
       "      <td>NaN</td>\n",
       "      <td>NaN</td>\n",
       "      <td>39.937152</td>\n",
       "      <td>75.000000</td>\n",
       "      <td>Тестовая</td>\n",
       "    </tr>\n",
       "    <tr>\n",
       "      <th>240</th>\n",
       "      <td>42288.0</td>\n",
       "      <td>Краснодарский край, г. Сочи, ул. Навагинская, ...</td>\n",
       "      <td>39.723699</td>\n",
       "      <td>43.587014</td>\n",
       "      <td>2002-04-06</td>\n",
       "      <td>NaT</td>\n",
       "      <td>172</td>\n",
       "      <td>отдельный вход с улицы</td>\n",
       "      <td>NaN</td>\n",
       "      <td>Street</td>\n",
       "      <td>...</td>\n",
       "      <td>1</td>\n",
       "      <td>с 9:00 до 21:00</td>\n",
       "      <td>NaN</td>\n",
       "      <td>0</td>\n",
       "      <td>1</td>\n",
       "      <td>0.0</td>\n",
       "      <td>NaN</td>\n",
       "      <td>30.012877</td>\n",
       "      <td>77.586207</td>\n",
       "      <td>Тестовая</td>\n",
       "    </tr>\n",
       "  </tbody>\n",
       "</table>\n",
       "<p>7 rows × 21 columns</p>\n",
       "</div>"
      ],
      "text/plain": [
       "     id точки                                              Адрес    Долгота  \\\n",
       "17    42345.0  Ленинградская обл, г. Выборг, ул. Северная, до...  28.750976   \n",
       "37    42059.0          г. Санкт-Петербург, Невский пр., дом № 27  30.327007   \n",
       "39    42072.0  г. Санкт-Петербург, Невский пр., дом № 90-92, ...  30.352412   \n",
       "76    42466.0  Новгородская обл, г. Великий Новгород, ул. Газ...  31.271550   \n",
       "201   42499.0  Оренбургская обл, г. Оренбург, ул. Володарског...  55.102543   \n",
       "236   42792.0  Ставропольский край, Пятигорск, улица Крайнего...  43.070993   \n",
       "240   42288.0  Краснодарский край, г. Сочи, ул. Навагинская, ...  39.723699   \n",
       "\n",
       "        Широта Дата открытия Дата закрытия  Площадь магазина  \\\n",
       "17   60.711041    2006-06-01           NaT               150   \n",
       "37   59.935056    2005-03-03           NaT               234   \n",
       "39   59.932428    2003-09-16           NaT               136   \n",
       "76   58.524624    2011-04-14           NaT               375   \n",
       "201  51.768377    2007-02-11           NaT               272   \n",
       "236  44.036763    2015-11-11           NaT               429   \n",
       "240  43.587014    2002-04-06           NaT               172   \n",
       "\n",
       "                  Тип входа  Площадь ТЦ Формат магазина  ... Этаж  \\\n",
       "17   отдельный вход с улицы         NaN          Street  ...    3   \n",
       "37   отдельный вход с улицы         NaN          Street  ...    1   \n",
       "39   отдельный вход с улицы         NaN          Street  ...    3   \n",
       "76   отдельный вход с улицы         NaN          Street  ...    3   \n",
       "201  отдельный вход с улицы         NaN          Street  ...    1   \n",
       "236   без сквозного прохода         NaN          Street  ...    1   \n",
       "240  отдельный вход с улицы         NaN          Street  ...    1   \n",
       "\n",
       "         Время работы Заполненность ТЦ  Рядом с эскалатором  Рядом со входом  \\\n",
       "17   с 10:00 до 21:00              NaN                    0                1   \n",
       "37   с 10:00 до 22:00              NaN                    0                1   \n",
       "39   с 10:00 до 22:00              NaN                    0                1   \n",
       "76   с 10:00 до 21:00              NaN                    0                1   \n",
       "201  с 10:00 до 21:00              2.0                    0                1   \n",
       "236  с 10:00 до 21:00              NaN                    0                0   \n",
       "240   с 9:00 до 21:00              NaN                    0                1   \n",
       "\n",
       "     Конкуренты в ТЦ  Расположение в ТЦ     Толока       Люкс   Выборка  \n",
       "17               NaN                NaN  22.997501  46.482759  Тестовая  \n",
       "37               NaN                3.0  77.000192  77.965517  Тестовая  \n",
       "39               0.0                NaN  43.738228  74.862069  Тестовая  \n",
       "76               NaN                NaN  21.730924  48.931034  Тестовая  \n",
       "201              NaN                NaN  43.510475  68.620690  Тестовая  \n",
       "236              NaN                NaN  39.937152  75.000000  Тестовая  \n",
       "240              0.0                NaN  30.012877  77.586207  Тестовая  \n",
       "\n",
       "[7 rows x 21 columns]"
      ]
     },
     "execution_count": 159,
     "metadata": {},
     "output_type": "execute_result"
    }
   ],
   "source": [
    "df1[(df1['Формат магазина'] == 'Street') & (df1['Выборка'] == 'Тестовая')]"
   ]
  },
  {
   "cell_type": "code",
   "execution_count": 113,
   "id": "0e1fd98f-d191-4766-9a2d-fcdd2de6d83c",
   "metadata": {},
   "outputs": [
    {
     "data": {
      "text/html": [
       "<div>\n",
       "<style scoped>\n",
       "    .dataframe tbody tr th:only-of-type {\n",
       "        vertical-align: middle;\n",
       "    }\n",
       "\n",
       "    .dataframe tbody tr th {\n",
       "        vertical-align: top;\n",
       "    }\n",
       "\n",
       "    .dataframe thead th {\n",
       "        text-align: right;\n",
       "    }\n",
       "</style>\n",
       "<table border=\"1\" class=\"dataframe\">\n",
       "  <thead>\n",
       "    <tr style=\"text-align: right;\">\n",
       "      <th></th>\n",
       "      <th>id точки</th>\n",
       "      <th>Адрес</th>\n",
       "      <th>Долгота</th>\n",
       "      <th>Широта</th>\n",
       "      <th>Дата открытия</th>\n",
       "      <th>Дата закрытия</th>\n",
       "      <th>Площадь магазина</th>\n",
       "      <th>Тип входа</th>\n",
       "      <th>Площадь ТЦ</th>\n",
       "      <th>Формат магазина</th>\n",
       "      <th>...</th>\n",
       "      <th>Этаж</th>\n",
       "      <th>Время работы</th>\n",
       "      <th>Заполненность ТЦ</th>\n",
       "      <th>Рядом с эскалатором</th>\n",
       "      <th>Рядом со входом</th>\n",
       "      <th>Конкуренты в ТЦ</th>\n",
       "      <th>Расположение в ТЦ</th>\n",
       "      <th>Толока</th>\n",
       "      <th>Люкс</th>\n",
       "      <th>Выборка</th>\n",
       "    </tr>\n",
       "  </thead>\n",
       "  <tbody>\n",
       "    <tr>\n",
       "      <th>0</th>\n",
       "      <td>42312.0</td>\n",
       "      <td>Красноярский край, г. Норильск, пл. Металлурго...</td>\n",
       "      <td>88.182779</td>\n",
       "      <td>69.358932</td>\n",
       "      <td>2013-07-15</td>\n",
       "      <td>NaT</td>\n",
       "      <td>455</td>\n",
       "      <td>без сквозного прохода</td>\n",
       "      <td>28324.0</td>\n",
       "      <td>ТЦ</td>\n",
       "      <td>...</td>\n",
       "      <td>1</td>\n",
       "      <td>с 10:00 до 22:00</td>\n",
       "      <td>3.0</td>\n",
       "      <td>1</td>\n",
       "      <td>0</td>\n",
       "      <td>NaN</td>\n",
       "      <td>8.0</td>\n",
       "      <td>69.080723</td>\n",
       "      <td>70.931034</td>\n",
       "      <td>Обучающая</td>\n",
       "    </tr>\n",
       "    <tr>\n",
       "      <th>2</th>\n",
       "      <td>42447.0</td>\n",
       "      <td>Мурманская обл, г. Мурманск, пр. Ленина, дом № 32</td>\n",
       "      <td>33.067489</td>\n",
       "      <td>68.956872</td>\n",
       "      <td>2012-11-09</td>\n",
       "      <td>NaT</td>\n",
       "      <td>602</td>\n",
       "      <td>без сквозного прохода</td>\n",
       "      <td>80000.0</td>\n",
       "      <td>ТЦ</td>\n",
       "      <td>...</td>\n",
       "      <td>1</td>\n",
       "      <td>с 10:00 до 22:00</td>\n",
       "      <td>3.0</td>\n",
       "      <td>1</td>\n",
       "      <td>1</td>\n",
       "      <td>NaN</td>\n",
       "      <td>10.0</td>\n",
       "      <td>91.103017</td>\n",
       "      <td>82.363636</td>\n",
       "      <td>Тестовая</td>\n",
       "    </tr>\n",
       "    <tr>\n",
       "      <th>3</th>\n",
       "      <td>2633929.0</td>\n",
       "      <td>Ямало-Ненецкий АО, г. Новый Уренгой, ул. Сибир...</td>\n",
       "      <td>76.631279</td>\n",
       "      <td>66.082833</td>\n",
       "      <td>2014-08-01</td>\n",
       "      <td>NaT</td>\n",
       "      <td>326</td>\n",
       "      <td>без сквозного прохода</td>\n",
       "      <td>40000.0</td>\n",
       "      <td>ТЦ</td>\n",
       "      <td>...</td>\n",
       "      <td>1</td>\n",
       "      <td>с 10:00 до 22:00</td>\n",
       "      <td>3.0</td>\n",
       "      <td>1</td>\n",
       "      <td>1</td>\n",
       "      <td>NaN</td>\n",
       "      <td>10.0</td>\n",
       "      <td>36.219104</td>\n",
       "      <td>64.037037</td>\n",
       "      <td>Тестовая</td>\n",
       "    </tr>\n",
       "    <tr>\n",
       "      <th>4</th>\n",
       "      <td>15621.0</td>\n",
       "      <td>Архангельская обл, г. Северодвинск, ул. Ломоно...</td>\n",
       "      <td>39.785522</td>\n",
       "      <td>64.550364</td>\n",
       "      <td>2003-11-09</td>\n",
       "      <td>NaT</td>\n",
       "      <td>178</td>\n",
       "      <td>сквозной проход</td>\n",
       "      <td>20000.0</td>\n",
       "      <td>ТЦ</td>\n",
       "      <td>...</td>\n",
       "      <td>1</td>\n",
       "      <td>с 10:00 до 21:00</td>\n",
       "      <td>3.0</td>\n",
       "      <td>0</td>\n",
       "      <td>0</td>\n",
       "      <td>0.0</td>\n",
       "      <td>8.0</td>\n",
       "      <td>82.880454</td>\n",
       "      <td>64.034483</td>\n",
       "      <td>Обучающая</td>\n",
       "    </tr>\n",
       "    <tr>\n",
       "      <th>5</th>\n",
       "      <td>15087.0</td>\n",
       "      <td>Архангельская обл, г. Архангельск, ул. Воскрес...</td>\n",
       "      <td>40.535400</td>\n",
       "      <td>64.541900</td>\n",
       "      <td>2014-11-20</td>\n",
       "      <td>NaT</td>\n",
       "      <td>416</td>\n",
       "      <td>без сквозного прохода</td>\n",
       "      <td>60000.0</td>\n",
       "      <td>ТЦ</td>\n",
       "      <td>...</td>\n",
       "      <td>1</td>\n",
       "      <td>с 10:00 до 21:00</td>\n",
       "      <td>3.0</td>\n",
       "      <td>1</td>\n",
       "      <td>1</td>\n",
       "      <td>NaN</td>\n",
       "      <td>10.5</td>\n",
       "      <td>71.418989</td>\n",
       "      <td>67.035714</td>\n",
       "      <td>Тестовая</td>\n",
       "    </tr>\n",
       "    <tr>\n",
       "      <th>...</th>\n",
       "      <td>...</td>\n",
       "      <td>...</td>\n",
       "      <td>...</td>\n",
       "      <td>...</td>\n",
       "      <td>...</td>\n",
       "      <td>...</td>\n",
       "      <td>...</td>\n",
       "      <td>...</td>\n",
       "      <td>...</td>\n",
       "      <td>...</td>\n",
       "      <td>...</td>\n",
       "      <td>...</td>\n",
       "      <td>...</td>\n",
       "      <td>...</td>\n",
       "      <td>...</td>\n",
       "      <td>...</td>\n",
       "      <td>...</td>\n",
       "      <td>...</td>\n",
       "      <td>...</td>\n",
       "      <td>...</td>\n",
       "      <td>...</td>\n",
       "    </tr>\n",
       "    <tr>\n",
       "      <th>237</th>\n",
       "      <td>42278.0</td>\n",
       "      <td>Краснодарский край, г. Сочи, п. Лазаревское, у...</td>\n",
       "      <td>39.335924</td>\n",
       "      <td>43.911720</td>\n",
       "      <td>2013-12-15</td>\n",
       "      <td>NaT</td>\n",
       "      <td>356</td>\n",
       "      <td>отдельный вход с улицы</td>\n",
       "      <td>3600.0</td>\n",
       "      <td>Мини-ТЦ</td>\n",
       "      <td>...</td>\n",
       "      <td>1</td>\n",
       "      <td>c 10-00 до 21-00</td>\n",
       "      <td>2.0</td>\n",
       "      <td>0</td>\n",
       "      <td>0</td>\n",
       "      <td>NaN</td>\n",
       "      <td>6.0</td>\n",
       "      <td>12.396310</td>\n",
       "      <td>48.689655</td>\n",
       "      <td>Обучающая</td>\n",
       "    </tr>\n",
       "    <tr>\n",
       "      <th>238</th>\n",
       "      <td>42298.0</td>\n",
       "      <td>Краснодарский край, г. Сочи, ул. Новая Заря, д...</td>\n",
       "      <td>39.732367</td>\n",
       "      <td>43.606535</td>\n",
       "      <td>2011-11-23</td>\n",
       "      <td>NaT</td>\n",
       "      <td>321</td>\n",
       "      <td>без сквозного прохода</td>\n",
       "      <td>167680.0</td>\n",
       "      <td>ТЦ</td>\n",
       "      <td>...</td>\n",
       "      <td>1</td>\n",
       "      <td>с 10:00 до 22:00</td>\n",
       "      <td>3.0</td>\n",
       "      <td>0</td>\n",
       "      <td>0</td>\n",
       "      <td>1.0</td>\n",
       "      <td>5.0</td>\n",
       "      <td>113.213531</td>\n",
       "      <td>79.137931</td>\n",
       "      <td>Обучающая</td>\n",
       "    </tr>\n",
       "    <tr>\n",
       "      <th>241</th>\n",
       "      <td>42553.0</td>\n",
       "      <td>Респ. Кабардино-Балкария, г. Нальчик, ул. Лени...</td>\n",
       "      <td>43.608527</td>\n",
       "      <td>43.485108</td>\n",
       "      <td>2009-05-15</td>\n",
       "      <td>NaT</td>\n",
       "      <td>218</td>\n",
       "      <td>без сквозного прохода</td>\n",
       "      <td>4848.0</td>\n",
       "      <td>ТЦ</td>\n",
       "      <td>...</td>\n",
       "      <td>1</td>\n",
       "      <td>с 10:00 до 21:00</td>\n",
       "      <td>NaN</td>\n",
       "      <td>0</td>\n",
       "      <td>1</td>\n",
       "      <td>NaN</td>\n",
       "      <td>5.0</td>\n",
       "      <td>103.695752</td>\n",
       "      <td>73.379310</td>\n",
       "      <td>Обучающая</td>\n",
       "    </tr>\n",
       "    <tr>\n",
       "      <th>243</th>\n",
       "      <td>42525.0</td>\n",
       "      <td>Приморский край, Владивосток г, Полетаева ул, ...</td>\n",
       "      <td>131.951234</td>\n",
       "      <td>43.212639</td>\n",
       "      <td>2018-06-16</td>\n",
       "      <td>NaT</td>\n",
       "      <td>527</td>\n",
       "      <td>без сквозного прохода</td>\n",
       "      <td>94000.0</td>\n",
       "      <td>ТЦ</td>\n",
       "      <td>...</td>\n",
       "      <td>1</td>\n",
       "      <td>Вс-Чт с 10:00 до 21:00     Пт-Сб с  10:00 до 2...</td>\n",
       "      <td>2.0</td>\n",
       "      <td>1</td>\n",
       "      <td>0</td>\n",
       "      <td>NaN</td>\n",
       "      <td>3.0</td>\n",
       "      <td>29.635210</td>\n",
       "      <td>74.000000</td>\n",
       "      <td>Тестовая</td>\n",
       "    </tr>\n",
       "    <tr>\n",
       "      <th>244</th>\n",
       "      <td>42668.0</td>\n",
       "      <td>Республика Северная Осетия — Алания, Владикавк...</td>\n",
       "      <td>44.642685</td>\n",
       "      <td>43.033586</td>\n",
       "      <td>2015-12-21</td>\n",
       "      <td>NaT</td>\n",
       "      <td>313</td>\n",
       "      <td>без сквозного прохода</td>\n",
       "      <td>28000.0</td>\n",
       "      <td>ТЦ</td>\n",
       "      <td>...</td>\n",
       "      <td>1</td>\n",
       "      <td>с 10:00 до 22:00</td>\n",
       "      <td>2.0</td>\n",
       "      <td>0</td>\n",
       "      <td>0</td>\n",
       "      <td>NaN</td>\n",
       "      <td>4.0</td>\n",
       "      <td>17.597540</td>\n",
       "      <td>49.727273</td>\n",
       "      <td>Тестовая</td>\n",
       "    </tr>\n",
       "  </tbody>\n",
       "</table>\n",
       "<p>158 rows × 21 columns</p>\n",
       "</div>"
      ],
      "text/plain": [
       "      id точки                                              Адрес     Долгота  \\\n",
       "0      42312.0  Красноярский край, г. Норильск, пл. Металлурго...   88.182779   \n",
       "2      42447.0  Мурманская обл, г. Мурманск, пр. Ленина, дом № 32   33.067489   \n",
       "3    2633929.0  Ямало-Ненецкий АО, г. Новый Уренгой, ул. Сибир...   76.631279   \n",
       "4      15621.0  Архангельская обл, г. Северодвинск, ул. Ломоно...   39.785522   \n",
       "5      15087.0  Архангельская обл, г. Архангельск, ул. Воскрес...   40.535400   \n",
       "..         ...                                                ...         ...   \n",
       "237    42278.0  Краснодарский край, г. Сочи, п. Лазаревское, у...   39.335924   \n",
       "238    42298.0  Краснодарский край, г. Сочи, ул. Новая Заря, д...   39.732367   \n",
       "241    42553.0  Респ. Кабардино-Балкария, г. Нальчик, ул. Лени...   43.608527   \n",
       "243    42525.0  Приморский край, Владивосток г, Полетаева ул, ...  131.951234   \n",
       "244    42668.0  Республика Северная Осетия — Алания, Владикавк...   44.642685   \n",
       "\n",
       "        Широта Дата открытия Дата закрытия  Площадь магазина  \\\n",
       "0    69.358932    2013-07-15           NaT               455   \n",
       "2    68.956872    2012-11-09           NaT               602   \n",
       "3    66.082833    2014-08-01           NaT               326   \n",
       "4    64.550364    2003-11-09           NaT               178   \n",
       "5    64.541900    2014-11-20           NaT               416   \n",
       "..         ...           ...           ...               ...   \n",
       "237  43.911720    2013-12-15           NaT               356   \n",
       "238  43.606535    2011-11-23           NaT               321   \n",
       "241  43.485108    2009-05-15           NaT               218   \n",
       "243  43.212639    2018-06-16           NaT               527   \n",
       "244  43.033586    2015-12-21           NaT               313   \n",
       "\n",
       "                  Тип входа  Площадь ТЦ Формат магазина  ... Этаж  \\\n",
       "0     без сквозного прохода     28324.0              ТЦ  ...    1   \n",
       "2     без сквозного прохода     80000.0              ТЦ  ...    1   \n",
       "3     без сквозного прохода     40000.0              ТЦ  ...    1   \n",
       "4           сквозной проход     20000.0              ТЦ  ...    1   \n",
       "5     без сквозного прохода     60000.0              ТЦ  ...    1   \n",
       "..                      ...         ...             ...  ...  ...   \n",
       "237  отдельный вход с улицы      3600.0         Мини-ТЦ  ...    1   \n",
       "238   без сквозного прохода    167680.0              ТЦ  ...    1   \n",
       "241   без сквозного прохода      4848.0              ТЦ  ...    1   \n",
       "243   без сквозного прохода     94000.0              ТЦ  ...    1   \n",
       "244   без сквозного прохода     28000.0              ТЦ  ...    1   \n",
       "\n",
       "                                          Время работы Заполненность ТЦ  \\\n",
       "0                                     с 10:00 до 22:00              3.0   \n",
       "2                                     с 10:00 до 22:00              3.0   \n",
       "3                                     с 10:00 до 22:00              3.0   \n",
       "4                                     с 10:00 до 21:00              3.0   \n",
       "5                                     с 10:00 до 21:00              3.0   \n",
       "..                                                 ...              ...   \n",
       "237                                   c 10-00 до 21-00              2.0   \n",
       "238                                   с 10:00 до 22:00              3.0   \n",
       "241                                   с 10:00 до 21:00              NaN   \n",
       "243  Вс-Чт с 10:00 до 21:00     Пт-Сб с  10:00 до 2...              2.0   \n",
       "244                                   с 10:00 до 22:00              2.0   \n",
       "\n",
       "     Рядом с эскалатором  Рядом со входом  Конкуренты в ТЦ  Расположение в ТЦ  \\\n",
       "0                      1                0              NaN                8.0   \n",
       "2                      1                1              NaN               10.0   \n",
       "3                      1                1              NaN               10.0   \n",
       "4                      0                0              0.0                8.0   \n",
       "5                      1                1              NaN               10.5   \n",
       "..                   ...              ...              ...                ...   \n",
       "237                    0                0              NaN                6.0   \n",
       "238                    0                0              1.0                5.0   \n",
       "241                    0                1              NaN                5.0   \n",
       "243                    1                0              NaN                3.0   \n",
       "244                    0                0              NaN                4.0   \n",
       "\n",
       "         Толока       Люкс    Выборка  \n",
       "0     69.080723  70.931034  Обучающая  \n",
       "2     91.103017  82.363636   Тестовая  \n",
       "3     36.219104  64.037037   Тестовая  \n",
       "4     82.880454  64.034483  Обучающая  \n",
       "5     71.418989  67.035714   Тестовая  \n",
       "..          ...        ...        ...  \n",
       "237   12.396310  48.689655  Обучающая  \n",
       "238  113.213531  79.137931  Обучающая  \n",
       "241  103.695752  73.379310  Обучающая  \n",
       "243   29.635210  74.000000   Тестовая  \n",
       "244   17.597540  49.727273   Тестовая  \n",
       "\n",
       "[158 rows x 21 columns]"
      ]
     },
     "execution_count": 113,
     "metadata": {},
     "output_type": "execute_result"
    }
   ],
   "source": [
    "df1[df1['Парковка'] == 'бесплатная парковка']"
   ]
  },
  {
   "cell_type": "code",
   "execution_count": 111,
   "id": "c3b44964-0e5d-40cd-89de-e02632093880",
   "metadata": {},
   "outputs": [
    {
     "data": {
      "text/plain": [
       "array(['ТЦ', 'Мини-ТЦ', 'Street'], dtype=object)"
      ]
     },
     "execution_count": 111,
     "metadata": {},
     "output_type": "execute_result"
    }
   ],
   "source": [
    "df1['Формат магазина'].unique()"
   ]
  },
  {
   "cell_type": "code",
   "execution_count": 116,
   "id": "9bccb991-fc99-4a19-805d-d787466f5c6d",
   "metadata": {},
   "outputs": [
    {
     "data": {
      "text/plain": [
       "id точки               30\n",
       "Адрес                  31\n",
       "Долгота                31\n",
       "Широта                 31\n",
       "Дата открытия          31\n",
       "Дата закрытия           2\n",
       "Площадь магазина       31\n",
       "Тип входа              31\n",
       "Площадь ТЦ             22\n",
       "Формат магазина        31\n",
       "Парковка               31\n",
       "Этаж                   30\n",
       "Время работы           31\n",
       "Заполненность ТЦ       19\n",
       "Рядом с эскалатором    31\n",
       "Рядом со входом        31\n",
       "Конкуренты в ТЦ         3\n",
       "Расположение в ТЦ      31\n",
       "Толока                 31\n",
       "Люкс                   31\n",
       "Выборка                31\n",
       "dtype: int64"
      ]
     },
     "execution_count": 116,
     "metadata": {},
     "output_type": "execute_result"
    }
   ],
   "source": [
    "df1[df1['Формат магазина'] == 'Мини-ТЦ'].count()"
   ]
  },
  {
   "cell_type": "code",
   "execution_count": 147,
   "id": "9f503c7d-fef2-494a-945f-0811603252eb",
   "metadata": {},
   "outputs": [],
   "source": [
    "df6 = df1[df1['Формат магазина'] == 'Мини-ТЦ'].dropna(subset = ['id точки'])"
   ]
  },
  {
   "cell_type": "code",
   "execution_count": 157,
   "id": "04089f3e-2b87-43ac-beee-96bd24462e1d",
   "metadata": {},
   "outputs": [
    {
     "data": {
      "text/plain": [
       "array(['Обучающая', 'Тестовая', '-'], dtype=object)"
      ]
     },
     "execution_count": 157,
     "metadata": {},
     "output_type": "execute_result"
    }
   ],
   "source": [
    "df6['Выборка'].unique()"
   ]
  },
  {
   "cell_type": "code",
   "execution_count": 158,
   "id": "a6fa866b-78d2-44cb-917f-d9a62d660afb",
   "metadata": {},
   "outputs": [
    {
     "data": {
      "text/plain": [
       "id точки               21\n",
       "Адрес                  21\n",
       "Долгота                21\n",
       "Широта                 21\n",
       "Дата открытия          21\n",
       "Дата закрытия           0\n",
       "Площадь магазина       21\n",
       "Тип входа              21\n",
       "Площадь ТЦ             16\n",
       "Формат магазина        21\n",
       "Парковка               21\n",
       "Этаж                   20\n",
       "Время работы           21\n",
       "Заполненность ТЦ       14\n",
       "Рядом с эскалатором    21\n",
       "Рядом со входом        21\n",
       "Конкуренты в ТЦ         2\n",
       "Расположение в ТЦ      21\n",
       "Толока                 21\n",
       "Люкс                   21\n",
       "Выборка                21\n",
       "dtype: int64"
      ]
     },
     "execution_count": 158,
     "metadata": {},
     "output_type": "execute_result"
    }
   ],
   "source": [
    "df6[df6['Выборка'] == 'Обучающая'].count()"
   ]
  },
  {
   "cell_type": "code",
   "execution_count": 123,
   "id": "3db21860-afe7-44be-9594-ff993e38c9ac",
   "metadata": {},
   "outputs": [],
   "source": [
    "df4['variable'] = pd.to_datetime(df4['variable'])"
   ]
  },
  {
   "cell_type": "code",
   "execution_count": 163,
   "id": "7a1fcbda-c17a-4d84-8793-ddc4642fdfb4",
   "metadata": {},
   "outputs": [
    {
     "data": {
      "text/html": [
       "<div>\n",
       "<style scoped>\n",
       "    .dataframe tbody tr th:only-of-type {\n",
       "        vertical-align: middle;\n",
       "    }\n",
       "\n",
       "    .dataframe tbody tr th {\n",
       "        vertical-align: top;\n",
       "    }\n",
       "\n",
       "    .dataframe thead th {\n",
       "        text-align: right;\n",
       "    }\n",
       "</style>\n",
       "<table border=\"1\" class=\"dataframe\">\n",
       "  <thead>\n",
       "    <tr style=\"text-align: right;\">\n",
       "      <th></th>\n",
       "      <th>id точки</th>\n",
       "      <th>variable</th>\n",
       "      <th>value</th>\n",
       "      <th>valuen</th>\n",
       "    </tr>\n",
       "  </thead>\n",
       "  <tbody>\n",
       "    <tr>\n",
       "      <th>1860</th>\n",
       "      <td>11366.0</td>\n",
       "      <td>2016-01-01</td>\n",
       "      <td>219926.676667</td>\n",
       "      <td>1.0</td>\n",
       "    </tr>\n",
       "    <tr>\n",
       "      <th>1861</th>\n",
       "      <td>11810.0</td>\n",
       "      <td>2016-01-01</td>\n",
       "      <td>246497.576000</td>\n",
       "      <td>1.0</td>\n",
       "    </tr>\n",
       "    <tr>\n",
       "      <th>1862</th>\n",
       "      <td>15041.0</td>\n",
       "      <td>2016-01-01</td>\n",
       "      <td>179593.269333</td>\n",
       "      <td>1.0</td>\n",
       "    </tr>\n",
       "    <tr>\n",
       "      <th>1863</th>\n",
       "      <td>15775.0</td>\n",
       "      <td>2016-01-01</td>\n",
       "      <td>401977.169997</td>\n",
       "      <td>1.0</td>\n",
       "    </tr>\n",
       "    <tr>\n",
       "      <th>1864</th>\n",
       "      <td>16102.0</td>\n",
       "      <td>2016-01-01</td>\n",
       "      <td>399725.448333</td>\n",
       "      <td>1.0</td>\n",
       "    </tr>\n",
       "    <tr>\n",
       "      <th>...</th>\n",
       "      <td>...</td>\n",
       "      <td>...</td>\n",
       "      <td>...</td>\n",
       "      <td>...</td>\n",
       "    </tr>\n",
       "    <tr>\n",
       "      <th>3715</th>\n",
       "      <td>2634000.0</td>\n",
       "      <td>2016-12-01</td>\n",
       "      <td>979096.869055</td>\n",
       "      <td>1.0</td>\n",
       "    </tr>\n",
       "    <tr>\n",
       "      <th>3716</th>\n",
       "      <td>2634008.0</td>\n",
       "      <td>2016-12-01</td>\n",
       "      <td>527792.670071</td>\n",
       "      <td>1.0</td>\n",
       "    </tr>\n",
       "    <tr>\n",
       "      <th>3717</th>\n",
       "      <td>2634011.0</td>\n",
       "      <td>2016-12-01</td>\n",
       "      <td>838820.486090</td>\n",
       "      <td>1.0</td>\n",
       "    </tr>\n",
       "    <tr>\n",
       "      <th>3718</th>\n",
       "      <td>2633936.0</td>\n",
       "      <td>2016-12-01</td>\n",
       "      <td>644241.254774</td>\n",
       "      <td>1.0</td>\n",
       "    </tr>\n",
       "    <tr>\n",
       "      <th>3719</th>\n",
       "      <td>NaN</td>\n",
       "      <td>2016-12-01</td>\n",
       "      <td>NaN</td>\n",
       "      <td>1.0</td>\n",
       "    </tr>\n",
       "  </tbody>\n",
       "</table>\n",
       "<p>1860 rows × 4 columns</p>\n",
       "</div>"
      ],
      "text/plain": [
       "       id точки   variable          value  valuen\n",
       "1860    11366.0 2016-01-01  219926.676667     1.0\n",
       "1861    11810.0 2016-01-01  246497.576000     1.0\n",
       "1862    15041.0 2016-01-01  179593.269333     1.0\n",
       "1863    15775.0 2016-01-01  401977.169997     1.0\n",
       "1864    16102.0 2016-01-01  399725.448333     1.0\n",
       "...         ...        ...            ...     ...\n",
       "3715  2634000.0 2016-12-01  979096.869055     1.0\n",
       "3716  2634008.0 2016-12-01  527792.670071     1.0\n",
       "3717  2634011.0 2016-12-01  838820.486090     1.0\n",
       "3718  2633936.0 2016-12-01  644241.254774     1.0\n",
       "3719        NaN 2016-12-01            NaN     1.0\n",
       "\n",
       "[1860 rows x 4 columns]"
      ]
     },
     "execution_count": 163,
     "metadata": {},
     "output_type": "execute_result"
    }
   ],
   "source": [
    "df4[df4['variable'].dt.year == 2016.]"
   ]
  },
  {
   "cell_type": "code",
   "execution_count": 164,
   "id": "c26c38d6-825a-4143-9d21-337184472374",
   "metadata": {},
   "outputs": [
    {
     "data": {
      "text/plain": [
       "array([2015., 2016., 2017., 2018.,   nan])"
      ]
     },
     "execution_count": 164,
     "metadata": {},
     "output_type": "execute_result"
    }
   ],
   "source": [
    "df4['variable'].dt.year.unique()"
   ]
  },
  {
   "cell_type": "code",
   "execution_count": 167,
   "id": "d6d5f3fb-51ee-48cd-937f-acf8bc6da3d1",
   "metadata": {},
   "outputs": [],
   "source": [
    "df5 = df6[(df6['Формат магазина'] == 'Мини-ТЦ') & (df6['Выборка'] == 'Обучающая')].merge(df4[df4['variable'].dt.year == 2016.], how = 'inner', left_on = 'id точки', right_on = 'id точки')"
   ]
  },
  {
   "cell_type": "code",
   "execution_count": 170,
   "id": "fa0a3bb8-e87f-44a0-a38c-438d74660121",
   "metadata": {},
   "outputs": [],
   "source": [
    "df7 = df6[df6['Формат магазина'] == 'Мини-ТЦ'].merge(df4[df4['variable'].dt.year == 2016.], how = 'inner', left_on = 'id точки', right_on = 'id точки')"
   ]
  },
  {
   "cell_type": "code",
   "execution_count": 171,
   "id": "c965940e-c8a8-4007-9cf2-d3104ac0daef",
   "metadata": {},
   "outputs": [
    {
     "data": {
      "text/plain": [
       "11"
      ]
     },
     "execution_count": 171,
     "metadata": {},
     "output_type": "execute_result"
    }
   ],
   "source": [
    "df5.groupby('id точки')['id точки'].unique().count()"
   ]
  },
  {
   "cell_type": "code",
   "execution_count": 172,
   "id": "248ab32d-5f3b-47d9-bf23-50ae47985cae",
   "metadata": {},
   "outputs": [
    {
     "data": {
      "text/plain": [
       "19"
      ]
     },
     "execution_count": 172,
     "metadata": {},
     "output_type": "execute_result"
    }
   ],
   "source": [
    "df7.groupby('id точки')['id точки'].unique().count()"
   ]
  },
  {
   "cell_type": "code",
   "execution_count": 175,
   "id": "a64c1511-6adb-42c6-8754-b038ac76f440",
   "metadata": {},
   "outputs": [
    {
     "data": {
      "text/plain": [
       "array([42067., 42192., 42355., 42368., 42803., 42383., 42422., 42548.])"
      ]
     },
     "execution_count": 175,
     "metadata": {},
     "output_type": "execute_result"
    }
   ],
   "source": [
    "df7.loc[~df7['id точки'].isin(df5['id точки']),'id точки' ].unique()"
   ]
  },
  {
   "cell_type": "code",
   "execution_count": 169,
   "id": "fa060280-e23b-4ce9-93dc-b36508e26c2a",
   "metadata": {},
   "outputs": [
    {
     "data": {
      "text/html": [
       "<div>\n",
       "<style scoped>\n",
       "    .dataframe tbody tr th:only-of-type {\n",
       "        vertical-align: middle;\n",
       "    }\n",
       "\n",
       "    .dataframe tbody tr th {\n",
       "        vertical-align: top;\n",
       "    }\n",
       "\n",
       "    .dataframe thead th {\n",
       "        text-align: right;\n",
       "    }\n",
       "</style>\n",
       "<table border=\"1\" class=\"dataframe\">\n",
       "  <thead>\n",
       "    <tr style=\"text-align: right;\">\n",
       "      <th></th>\n",
       "      <th>id точки</th>\n",
       "      <th>Адрес</th>\n",
       "      <th>Долгота</th>\n",
       "      <th>Широта</th>\n",
       "      <th>Дата открытия</th>\n",
       "      <th>Дата закрытия</th>\n",
       "      <th>Площадь магазина</th>\n",
       "      <th>Тип входа</th>\n",
       "      <th>Площадь ТЦ</th>\n",
       "      <th>Формат магазина</th>\n",
       "      <th>...</th>\n",
       "      <th>Этаж</th>\n",
       "      <th>Время работы</th>\n",
       "      <th>Заполненность ТЦ</th>\n",
       "      <th>Рядом с эскалатором</th>\n",
       "      <th>Рядом со входом</th>\n",
       "      <th>Конкуренты в ТЦ</th>\n",
       "      <th>Расположение в ТЦ</th>\n",
       "      <th>Толока</th>\n",
       "      <th>Люкс</th>\n",
       "      <th>Выборка</th>\n",
       "    </tr>\n",
       "  </thead>\n",
       "  <tbody>\n",
       "    <tr>\n",
       "      <th>0</th>\n",
       "      <td>42312.0</td>\n",
       "      <td>Красноярский край, г. Норильск, пл. Металлурго...</td>\n",
       "      <td>88.182779</td>\n",
       "      <td>69.358932</td>\n",
       "      <td>2013-07-15</td>\n",
       "      <td>NaT</td>\n",
       "      <td>455</td>\n",
       "      <td>без сквозного прохода</td>\n",
       "      <td>28324.0</td>\n",
       "      <td>ТЦ</td>\n",
       "      <td>...</td>\n",
       "      <td>1</td>\n",
       "      <td>с 10:00 до 22:00</td>\n",
       "      <td>3.0</td>\n",
       "      <td>1</td>\n",
       "      <td>0</td>\n",
       "      <td>NaN</td>\n",
       "      <td>8.0</td>\n",
       "      <td>69.080723</td>\n",
       "      <td>70.931034</td>\n",
       "      <td>Обучающая</td>\n",
       "    </tr>\n",
       "    <tr>\n",
       "      <th>2</th>\n",
       "      <td>42447.0</td>\n",
       "      <td>Мурманская обл, г. Мурманск, пр. Ленина, дом № 32</td>\n",
       "      <td>33.067489</td>\n",
       "      <td>68.956872</td>\n",
       "      <td>2012-11-09</td>\n",
       "      <td>NaT</td>\n",
       "      <td>602</td>\n",
       "      <td>без сквозного прохода</td>\n",
       "      <td>80000.0</td>\n",
       "      <td>ТЦ</td>\n",
       "      <td>...</td>\n",
       "      <td>1</td>\n",
       "      <td>с 10:00 до 22:00</td>\n",
       "      <td>3.0</td>\n",
       "      <td>1</td>\n",
       "      <td>1</td>\n",
       "      <td>NaN</td>\n",
       "      <td>10.0</td>\n",
       "      <td>91.103017</td>\n",
       "      <td>82.363636</td>\n",
       "      <td>Тестовая</td>\n",
       "    </tr>\n",
       "    <tr>\n",
       "      <th>3</th>\n",
       "      <td>2633929.0</td>\n",
       "      <td>Ямало-Ненецкий АО, г. Новый Уренгой, ул. Сибир...</td>\n",
       "      <td>76.631279</td>\n",
       "      <td>66.082833</td>\n",
       "      <td>2014-08-01</td>\n",
       "      <td>NaT</td>\n",
       "      <td>326</td>\n",
       "      <td>без сквозного прохода</td>\n",
       "      <td>40000.0</td>\n",
       "      <td>ТЦ</td>\n",
       "      <td>...</td>\n",
       "      <td>1</td>\n",
       "      <td>с 10:00 до 22:00</td>\n",
       "      <td>3.0</td>\n",
       "      <td>1</td>\n",
       "      <td>1</td>\n",
       "      <td>NaN</td>\n",
       "      <td>10.0</td>\n",
       "      <td>36.219104</td>\n",
       "      <td>64.037037</td>\n",
       "      <td>Тестовая</td>\n",
       "    </tr>\n",
       "    <tr>\n",
       "      <th>4</th>\n",
       "      <td>15621.0</td>\n",
       "      <td>Архангельская обл, г. Северодвинск, ул. Ломоно...</td>\n",
       "      <td>39.785522</td>\n",
       "      <td>64.550364</td>\n",
       "      <td>2003-11-09</td>\n",
       "      <td>NaT</td>\n",
       "      <td>178</td>\n",
       "      <td>сквозной проход</td>\n",
       "      <td>20000.0</td>\n",
       "      <td>ТЦ</td>\n",
       "      <td>...</td>\n",
       "      <td>1</td>\n",
       "      <td>с 10:00 до 21:00</td>\n",
       "      <td>3.0</td>\n",
       "      <td>0</td>\n",
       "      <td>0</td>\n",
       "      <td>0.0</td>\n",
       "      <td>8.0</td>\n",
       "      <td>82.880454</td>\n",
       "      <td>64.034483</td>\n",
       "      <td>Обучающая</td>\n",
       "    </tr>\n",
       "    <tr>\n",
       "      <th>5</th>\n",
       "      <td>15087.0</td>\n",
       "      <td>Архангельская обл, г. Архангельск, ул. Воскрес...</td>\n",
       "      <td>40.535400</td>\n",
       "      <td>64.541900</td>\n",
       "      <td>2014-11-20</td>\n",
       "      <td>NaT</td>\n",
       "      <td>416</td>\n",
       "      <td>без сквозного прохода</td>\n",
       "      <td>60000.0</td>\n",
       "      <td>ТЦ</td>\n",
       "      <td>...</td>\n",
       "      <td>1</td>\n",
       "      <td>с 10:00 до 21:00</td>\n",
       "      <td>3.0</td>\n",
       "      <td>1</td>\n",
       "      <td>1</td>\n",
       "      <td>NaN</td>\n",
       "      <td>10.5</td>\n",
       "      <td>71.418989</td>\n",
       "      <td>67.035714</td>\n",
       "      <td>Тестовая</td>\n",
       "    </tr>\n",
       "    <tr>\n",
       "      <th>...</th>\n",
       "      <td>...</td>\n",
       "      <td>...</td>\n",
       "      <td>...</td>\n",
       "      <td>...</td>\n",
       "      <td>...</td>\n",
       "      <td>...</td>\n",
       "      <td>...</td>\n",
       "      <td>...</td>\n",
       "      <td>...</td>\n",
       "      <td>...</td>\n",
       "      <td>...</td>\n",
       "      <td>...</td>\n",
       "      <td>...</td>\n",
       "      <td>...</td>\n",
       "      <td>...</td>\n",
       "      <td>...</td>\n",
       "      <td>...</td>\n",
       "      <td>...</td>\n",
       "      <td>...</td>\n",
       "      <td>...</td>\n",
       "      <td>...</td>\n",
       "    </tr>\n",
       "    <tr>\n",
       "      <th>241</th>\n",
       "      <td>42553.0</td>\n",
       "      <td>Респ. Кабардино-Балкария, г. Нальчик, ул. Лени...</td>\n",
       "      <td>43.608527</td>\n",
       "      <td>43.485108</td>\n",
       "      <td>2009-05-15</td>\n",
       "      <td>NaT</td>\n",
       "      <td>218</td>\n",
       "      <td>без сквозного прохода</td>\n",
       "      <td>4848.0</td>\n",
       "      <td>ТЦ</td>\n",
       "      <td>...</td>\n",
       "      <td>1</td>\n",
       "      <td>с 10:00 до 21:00</td>\n",
       "      <td>NaN</td>\n",
       "      <td>0</td>\n",
       "      <td>1</td>\n",
       "      <td>NaN</td>\n",
       "      <td>5.0</td>\n",
       "      <td>103.695752</td>\n",
       "      <td>73.379310</td>\n",
       "      <td>Обучающая</td>\n",
       "    </tr>\n",
       "    <tr>\n",
       "      <th>242</th>\n",
       "      <td>42240.0</td>\n",
       "      <td>Краснодарский край, Адлерский р-он, г. Сочи, у...</td>\n",
       "      <td>39.926853</td>\n",
       "      <td>43.427665</td>\n",
       "      <td>2011-10-05</td>\n",
       "      <td>NaT</td>\n",
       "      <td>292</td>\n",
       "      <td>без сквозного прохода</td>\n",
       "      <td>30000.0</td>\n",
       "      <td>ТЦ</td>\n",
       "      <td>...</td>\n",
       "      <td>3</td>\n",
       "      <td>с 10:00 до 21:00</td>\n",
       "      <td>3.0</td>\n",
       "      <td>1</td>\n",
       "      <td>1</td>\n",
       "      <td>NaN</td>\n",
       "      <td>10.0</td>\n",
       "      <td>86.215068</td>\n",
       "      <td>71.655172</td>\n",
       "      <td>Тестовая</td>\n",
       "    </tr>\n",
       "    <tr>\n",
       "      <th>243</th>\n",
       "      <td>42525.0</td>\n",
       "      <td>Приморский край, Владивосток г, Полетаева ул, ...</td>\n",
       "      <td>131.951234</td>\n",
       "      <td>43.212639</td>\n",
       "      <td>2018-06-16</td>\n",
       "      <td>NaT</td>\n",
       "      <td>527</td>\n",
       "      <td>без сквозного прохода</td>\n",
       "      <td>94000.0</td>\n",
       "      <td>ТЦ</td>\n",
       "      <td>...</td>\n",
       "      <td>1</td>\n",
       "      <td>Вс-Чт с 10:00 до 21:00     Пт-Сб с  10:00 до 2...</td>\n",
       "      <td>2.0</td>\n",
       "      <td>1</td>\n",
       "      <td>0</td>\n",
       "      <td>NaN</td>\n",
       "      <td>3.0</td>\n",
       "      <td>29.635210</td>\n",
       "      <td>74.000000</td>\n",
       "      <td>Тестовая</td>\n",
       "    </tr>\n",
       "    <tr>\n",
       "      <th>244</th>\n",
       "      <td>42668.0</td>\n",
       "      <td>Республика Северная Осетия — Алания, Владикавк...</td>\n",
       "      <td>44.642685</td>\n",
       "      <td>43.033586</td>\n",
       "      <td>2015-12-21</td>\n",
       "      <td>NaT</td>\n",
       "      <td>313</td>\n",
       "      <td>без сквозного прохода</td>\n",
       "      <td>28000.0</td>\n",
       "      <td>ТЦ</td>\n",
       "      <td>...</td>\n",
       "      <td>1</td>\n",
       "      <td>с 10:00 до 22:00</td>\n",
       "      <td>2.0</td>\n",
       "      <td>0</td>\n",
       "      <td>0</td>\n",
       "      <td>NaN</td>\n",
       "      <td>4.0</td>\n",
       "      <td>17.597540</td>\n",
       "      <td>49.727273</td>\n",
       "      <td>Тестовая</td>\n",
       "    </tr>\n",
       "    <tr>\n",
       "      <th>245</th>\n",
       "      <td>42597.0</td>\n",
       "      <td>Респ. Северная Осетия, г. Владикавказ, ул. Ген...</td>\n",
       "      <td>44.677235</td>\n",
       "      <td>43.019324</td>\n",
       "      <td>2015-12-15</td>\n",
       "      <td>NaT</td>\n",
       "      <td>361</td>\n",
       "      <td>без сквозного прохода</td>\n",
       "      <td>10000.0</td>\n",
       "      <td>ТЦ</td>\n",
       "      <td>...</td>\n",
       "      <td>2</td>\n",
       "      <td>с 9:00 до 21:00</td>\n",
       "      <td>2.0</td>\n",
       "      <td>0</td>\n",
       "      <td>1</td>\n",
       "      <td>0.0</td>\n",
       "      <td>6.0</td>\n",
       "      <td>42.047857</td>\n",
       "      <td>73.965517</td>\n",
       "      <td>Обучающая</td>\n",
       "    </tr>\n",
       "  </tbody>\n",
       "</table>\n",
       "<p>234 rows × 21 columns</p>\n",
       "</div>"
      ],
      "text/plain": [
       "      id точки                                              Адрес     Долгота  \\\n",
       "0      42312.0  Красноярский край, г. Норильск, пл. Металлурго...   88.182779   \n",
       "2      42447.0  Мурманская обл, г. Мурманск, пр. Ленина, дом № 32   33.067489   \n",
       "3    2633929.0  Ямало-Ненецкий АО, г. Новый Уренгой, ул. Сибир...   76.631279   \n",
       "4      15621.0  Архангельская обл, г. Северодвинск, ул. Ломоно...   39.785522   \n",
       "5      15087.0  Архангельская обл, г. Архангельск, ул. Воскрес...   40.535400   \n",
       "..         ...                                                ...         ...   \n",
       "241    42553.0  Респ. Кабардино-Балкария, г. Нальчик, ул. Лени...   43.608527   \n",
       "242    42240.0  Краснодарский край, Адлерский р-он, г. Сочи, у...   39.926853   \n",
       "243    42525.0  Приморский край, Владивосток г, Полетаева ул, ...  131.951234   \n",
       "244    42668.0  Республика Северная Осетия — Алания, Владикавк...   44.642685   \n",
       "245    42597.0  Респ. Северная Осетия, г. Владикавказ, ул. Ген...   44.677235   \n",
       "\n",
       "        Широта Дата открытия Дата закрытия  Площадь магазина  \\\n",
       "0    69.358932    2013-07-15           NaT               455   \n",
       "2    68.956872    2012-11-09           NaT               602   \n",
       "3    66.082833    2014-08-01           NaT               326   \n",
       "4    64.550364    2003-11-09           NaT               178   \n",
       "5    64.541900    2014-11-20           NaT               416   \n",
       "..         ...           ...           ...               ...   \n",
       "241  43.485108    2009-05-15           NaT               218   \n",
       "242  43.427665    2011-10-05           NaT               292   \n",
       "243  43.212639    2018-06-16           NaT               527   \n",
       "244  43.033586    2015-12-21           NaT               313   \n",
       "245  43.019324    2015-12-15           NaT               361   \n",
       "\n",
       "                 Тип входа  Площадь ТЦ Формат магазина  ... Этаж  \\\n",
       "0    без сквозного прохода     28324.0              ТЦ  ...    1   \n",
       "2    без сквозного прохода     80000.0              ТЦ  ...    1   \n",
       "3    без сквозного прохода     40000.0              ТЦ  ...    1   \n",
       "4          сквозной проход     20000.0              ТЦ  ...    1   \n",
       "5    без сквозного прохода     60000.0              ТЦ  ...    1   \n",
       "..                     ...         ...             ...  ...  ...   \n",
       "241  без сквозного прохода      4848.0              ТЦ  ...    1   \n",
       "242  без сквозного прохода     30000.0              ТЦ  ...    3   \n",
       "243  без сквозного прохода     94000.0              ТЦ  ...    1   \n",
       "244  без сквозного прохода     28000.0              ТЦ  ...    1   \n",
       "245  без сквозного прохода     10000.0              ТЦ  ...    2   \n",
       "\n",
       "                                          Время работы Заполненность ТЦ  \\\n",
       "0                                     с 10:00 до 22:00              3.0   \n",
       "2                                     с 10:00 до 22:00              3.0   \n",
       "3                                     с 10:00 до 22:00              3.0   \n",
       "4                                     с 10:00 до 21:00              3.0   \n",
       "5                                     с 10:00 до 21:00              3.0   \n",
       "..                                                 ...              ...   \n",
       "241                                   с 10:00 до 21:00              NaN   \n",
       "242                                   с 10:00 до 21:00              3.0   \n",
       "243  Вс-Чт с 10:00 до 21:00     Пт-Сб с  10:00 до 2...              2.0   \n",
       "244                                   с 10:00 до 22:00              2.0   \n",
       "245                                    с 9:00 до 21:00              2.0   \n",
       "\n",
       "     Рядом с эскалатором  Рядом со входом  Конкуренты в ТЦ  Расположение в ТЦ  \\\n",
       "0                      1                0              NaN                8.0   \n",
       "2                      1                1              NaN               10.0   \n",
       "3                      1                1              NaN               10.0   \n",
       "4                      0                0              0.0                8.0   \n",
       "5                      1                1              NaN               10.5   \n",
       "..                   ...              ...              ...                ...   \n",
       "241                    0                1              NaN                5.0   \n",
       "242                    1                1              NaN               10.0   \n",
       "243                    1                0              NaN                3.0   \n",
       "244                    0                0              NaN                4.0   \n",
       "245                    0                1              0.0                6.0   \n",
       "\n",
       "         Толока       Люкс    Выборка  \n",
       "0     69.080723  70.931034  Обучающая  \n",
       "2     91.103017  82.363636   Тестовая  \n",
       "3     36.219104  64.037037   Тестовая  \n",
       "4     82.880454  64.034483  Обучающая  \n",
       "5     71.418989  67.035714   Тестовая  \n",
       "..          ...        ...        ...  \n",
       "241  103.695752  73.379310  Обучающая  \n",
       "242   86.215068  71.655172   Тестовая  \n",
       "243   29.635210  74.000000   Тестовая  \n",
       "244   17.597540  49.727273   Тестовая  \n",
       "245   42.047857  73.965517  Обучающая  \n",
       "\n",
       "[234 rows x 21 columns]"
      ]
     },
     "execution_count": 169,
     "metadata": {},
     "output_type": "execute_result"
    }
   ],
   "source": [
    "df1[~df1['id точки'].isin(df5['id точки'])]"
   ]
  },
  {
   "cell_type": "code",
   "execution_count": 177,
   "id": "41e08587-2e7f-4b97-9dea-ebceefa844b8",
   "metadata": {},
   "outputs": [
    {
     "data": {
      "text/plain": [
       "283827.3012077455"
      ]
     },
     "execution_count": 177,
     "metadata": {},
     "output_type": "execute_result"
    }
   ],
   "source": [
    "df5['value'].mean()"
   ]
  },
  {
   "cell_type": "code",
   "execution_count": 178,
   "id": "b061cdb8-5566-41e3-96a0-6c8bedeb312b",
   "metadata": {},
   "outputs": [
    {
     "data": {
      "text/plain": [
       "331897.9179190701"
      ]
     },
     "execution_count": 178,
     "metadata": {},
     "output_type": "execute_result"
    }
   ],
   "source": [
    "df7['value'].mean()"
   ]
  },
  {
   "cell_type": "code",
   "execution_count": null,
   "id": "74e7d7c7-ab36-4037-ae64-792a0eb567a5",
   "metadata": {},
   "outputs": [],
   "source": []
  }
 ],
 "metadata": {
  "kernelspec": {
   "display_name": "Python 3",
   "language": "python",
   "name": "python3"
  },
  "language_info": {
   "codemirror_mode": {
    "name": "ipython",
    "version": 3
   },
   "file_extension": ".py",
   "mimetype": "text/x-python",
   "name": "python",
   "nbconvert_exporter": "python",
   "pygments_lexer": "ipython3",
   "version": "3.8.8"
  }
 },
 "nbformat": 4,
 "nbformat_minor": 5
}
